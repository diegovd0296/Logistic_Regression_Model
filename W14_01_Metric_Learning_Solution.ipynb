{
  "nbformat": 4,
  "nbformat_minor": 0,
  "metadata": {
    "colab": {
      "name": "W14_01_Metric_Learning_Solution.ipynb",
      "provenance": [],
      "collapsed_sections": [],
      "authorship_tag": "ABX9TyP3kvOSK0xswsXPD5v0iibc",
      "include_colab_link": true
    },
    "kernelspec": {
      "name": "python3",
      "display_name": "Python 3"
    },
    "language_info": {
      "name": "python"
    },
    "accelerator": "GPU",
    "widgets": {
      "application/vnd.jupyter.widget-state+json": {
        "ae69aead8ff046e88c0f6dcdc9b91bc9": {
          "model_module": "@jupyter-widgets/controls",
          "model_name": "HBoxModel",
          "state": {
            "_view_name": "HBoxView",
            "_dom_classes": [],
            "_model_name": "HBoxModel",
            "_view_module": "@jupyter-widgets/controls",
            "_model_module_version": "1.5.0",
            "_view_count": null,
            "_view_module_version": "1.5.0",
            "box_style": "",
            "layout": "IPY_MODEL_d165d16b5529436587aea3cc096e4327",
            "_model_module": "@jupyter-widgets/controls",
            "children": [
              "IPY_MODEL_9645117db239487ab42bba14d87938bb",
              "IPY_MODEL_eae4951774f0451a8c3e1e963646ce9e"
            ]
          }
        },
        "d165d16b5529436587aea3cc096e4327": {
          "model_module": "@jupyter-widgets/base",
          "model_name": "LayoutModel",
          "state": {
            "_view_name": "LayoutView",
            "grid_template_rows": null,
            "right": null,
            "justify_content": null,
            "_view_module": "@jupyter-widgets/base",
            "overflow": null,
            "_model_module_version": "1.2.0",
            "_view_count": null,
            "flex_flow": null,
            "width": null,
            "min_width": null,
            "border": null,
            "align_items": null,
            "bottom": null,
            "_model_module": "@jupyter-widgets/base",
            "top": null,
            "grid_column": null,
            "overflow_y": null,
            "overflow_x": null,
            "grid_auto_flow": null,
            "grid_area": null,
            "grid_template_columns": null,
            "flex": null,
            "_model_name": "LayoutModel",
            "justify_items": null,
            "grid_row": null,
            "max_height": null,
            "align_content": null,
            "visibility": null,
            "align_self": null,
            "height": null,
            "min_height": null,
            "padding": null,
            "grid_auto_rows": null,
            "grid_gap": null,
            "max_width": null,
            "order": null,
            "_view_module_version": "1.2.0",
            "grid_template_areas": null,
            "object_position": null,
            "object_fit": null,
            "grid_auto_columns": null,
            "margin": null,
            "display": null,
            "left": null
          }
        },
        "9645117db239487ab42bba14d87938bb": {
          "model_module": "@jupyter-widgets/controls",
          "model_name": "FloatProgressModel",
          "state": {
            "_view_name": "ProgressView",
            "style": "IPY_MODEL_c068751e23234e6b82bc66a0eb3ab141",
            "_dom_classes": [],
            "description": "",
            "_model_name": "FloatProgressModel",
            "bar_style": "success",
            "max": 26421880,
            "_view_module": "@jupyter-widgets/controls",
            "_model_module_version": "1.5.0",
            "value": 26421880,
            "_view_count": null,
            "_view_module_version": "1.5.0",
            "orientation": "horizontal",
            "min": 0,
            "description_tooltip": null,
            "_model_module": "@jupyter-widgets/controls",
            "layout": "IPY_MODEL_a6b733233065410f95ba6a60529f9fe9"
          }
        },
        "eae4951774f0451a8c3e1e963646ce9e": {
          "model_module": "@jupyter-widgets/controls",
          "model_name": "HTMLModel",
          "state": {
            "_view_name": "HTMLView",
            "style": "IPY_MODEL_d98d72a497a84f809e8379a482cae2c8",
            "_dom_classes": [],
            "description": "",
            "_model_name": "HTMLModel",
            "placeholder": "​",
            "_view_module": "@jupyter-widgets/controls",
            "_model_module_version": "1.5.0",
            "value": " 26422272/? [00:31&lt;00:00, 848168.56it/s]",
            "_view_count": null,
            "_view_module_version": "1.5.0",
            "description_tooltip": null,
            "_model_module": "@jupyter-widgets/controls",
            "layout": "IPY_MODEL_016453eb2c304e96803354130161e4cc"
          }
        },
        "c068751e23234e6b82bc66a0eb3ab141": {
          "model_module": "@jupyter-widgets/controls",
          "model_name": "ProgressStyleModel",
          "state": {
            "_view_name": "StyleView",
            "_model_name": "ProgressStyleModel",
            "description_width": "initial",
            "_view_module": "@jupyter-widgets/base",
            "_model_module_version": "1.5.0",
            "_view_count": null,
            "_view_module_version": "1.2.0",
            "bar_color": null,
            "_model_module": "@jupyter-widgets/controls"
          }
        },
        "a6b733233065410f95ba6a60529f9fe9": {
          "model_module": "@jupyter-widgets/base",
          "model_name": "LayoutModel",
          "state": {
            "_view_name": "LayoutView",
            "grid_template_rows": null,
            "right": null,
            "justify_content": null,
            "_view_module": "@jupyter-widgets/base",
            "overflow": null,
            "_model_module_version": "1.2.0",
            "_view_count": null,
            "flex_flow": null,
            "width": null,
            "min_width": null,
            "border": null,
            "align_items": null,
            "bottom": null,
            "_model_module": "@jupyter-widgets/base",
            "top": null,
            "grid_column": null,
            "overflow_y": null,
            "overflow_x": null,
            "grid_auto_flow": null,
            "grid_area": null,
            "grid_template_columns": null,
            "flex": null,
            "_model_name": "LayoutModel",
            "justify_items": null,
            "grid_row": null,
            "max_height": null,
            "align_content": null,
            "visibility": null,
            "align_self": null,
            "height": null,
            "min_height": null,
            "padding": null,
            "grid_auto_rows": null,
            "grid_gap": null,
            "max_width": null,
            "order": null,
            "_view_module_version": "1.2.0",
            "grid_template_areas": null,
            "object_position": null,
            "object_fit": null,
            "grid_auto_columns": null,
            "margin": null,
            "display": null,
            "left": null
          }
        },
        "d98d72a497a84f809e8379a482cae2c8": {
          "model_module": "@jupyter-widgets/controls",
          "model_name": "DescriptionStyleModel",
          "state": {
            "_view_name": "StyleView",
            "_model_name": "DescriptionStyleModel",
            "description_width": "",
            "_view_module": "@jupyter-widgets/base",
            "_model_module_version": "1.5.0",
            "_view_count": null,
            "_view_module_version": "1.2.0",
            "_model_module": "@jupyter-widgets/controls"
          }
        },
        "016453eb2c304e96803354130161e4cc": {
          "model_module": "@jupyter-widgets/base",
          "model_name": "LayoutModel",
          "state": {
            "_view_name": "LayoutView",
            "grid_template_rows": null,
            "right": null,
            "justify_content": null,
            "_view_module": "@jupyter-widgets/base",
            "overflow": null,
            "_model_module_version": "1.2.0",
            "_view_count": null,
            "flex_flow": null,
            "width": null,
            "min_width": null,
            "border": null,
            "align_items": null,
            "bottom": null,
            "_model_module": "@jupyter-widgets/base",
            "top": null,
            "grid_column": null,
            "overflow_y": null,
            "overflow_x": null,
            "grid_auto_flow": null,
            "grid_area": null,
            "grid_template_columns": null,
            "flex": null,
            "_model_name": "LayoutModel",
            "justify_items": null,
            "grid_row": null,
            "max_height": null,
            "align_content": null,
            "visibility": null,
            "align_self": null,
            "height": null,
            "min_height": null,
            "padding": null,
            "grid_auto_rows": null,
            "grid_gap": null,
            "max_width": null,
            "order": null,
            "_view_module_version": "1.2.0",
            "grid_template_areas": null,
            "object_position": null,
            "object_fit": null,
            "grid_auto_columns": null,
            "margin": null,
            "display": null,
            "left": null
          }
        },
        "e7f05fa156ec4a83972c0db5d10c1250": {
          "model_module": "@jupyter-widgets/controls",
          "model_name": "HBoxModel",
          "state": {
            "_view_name": "HBoxView",
            "_dom_classes": [],
            "_model_name": "HBoxModel",
            "_view_module": "@jupyter-widgets/controls",
            "_model_module_version": "1.5.0",
            "_view_count": null,
            "_view_module_version": "1.5.0",
            "box_style": "",
            "layout": "IPY_MODEL_90c2da29a76944a5832e4b62276a0dce",
            "_model_module": "@jupyter-widgets/controls",
            "children": [
              "IPY_MODEL_89f161ea3b7b47958465a694ee402658",
              "IPY_MODEL_f141192a98cd46e795ba7578c93bf528"
            ]
          }
        },
        "90c2da29a76944a5832e4b62276a0dce": {
          "model_module": "@jupyter-widgets/base",
          "model_name": "LayoutModel",
          "state": {
            "_view_name": "LayoutView",
            "grid_template_rows": null,
            "right": null,
            "justify_content": null,
            "_view_module": "@jupyter-widgets/base",
            "overflow": null,
            "_model_module_version": "1.2.0",
            "_view_count": null,
            "flex_flow": null,
            "width": null,
            "min_width": null,
            "border": null,
            "align_items": null,
            "bottom": null,
            "_model_module": "@jupyter-widgets/base",
            "top": null,
            "grid_column": null,
            "overflow_y": null,
            "overflow_x": null,
            "grid_auto_flow": null,
            "grid_area": null,
            "grid_template_columns": null,
            "flex": null,
            "_model_name": "LayoutModel",
            "justify_items": null,
            "grid_row": null,
            "max_height": null,
            "align_content": null,
            "visibility": null,
            "align_self": null,
            "height": null,
            "min_height": null,
            "padding": null,
            "grid_auto_rows": null,
            "grid_gap": null,
            "max_width": null,
            "order": null,
            "_view_module_version": "1.2.0",
            "grid_template_areas": null,
            "object_position": null,
            "object_fit": null,
            "grid_auto_columns": null,
            "margin": null,
            "display": null,
            "left": null
          }
        },
        "89f161ea3b7b47958465a694ee402658": {
          "model_module": "@jupyter-widgets/controls",
          "model_name": "FloatProgressModel",
          "state": {
            "_view_name": "ProgressView",
            "style": "IPY_MODEL_f1210c3ff0504f5b94bfd18c260bfaf8",
            "_dom_classes": [],
            "description": "",
            "_model_name": "FloatProgressModel",
            "bar_style": "success",
            "max": 29515,
            "_view_module": "@jupyter-widgets/controls",
            "_model_module_version": "1.5.0",
            "value": 29515,
            "_view_count": null,
            "_view_module_version": "1.5.0",
            "orientation": "horizontal",
            "min": 0,
            "description_tooltip": null,
            "_model_module": "@jupyter-widgets/controls",
            "layout": "IPY_MODEL_1b146af438a6450688d7ad576cf7ebc1"
          }
        },
        "f141192a98cd46e795ba7578c93bf528": {
          "model_module": "@jupyter-widgets/controls",
          "model_name": "HTMLModel",
          "state": {
            "_view_name": "HTMLView",
            "style": "IPY_MODEL_1a41ff4569f04955b48d6739f2c99e57",
            "_dom_classes": [],
            "description": "",
            "_model_name": "HTMLModel",
            "placeholder": "​",
            "_view_module": "@jupyter-widgets/controls",
            "_model_module_version": "1.5.0",
            "value": " 29696/? [00:01&lt;00:00, 21533.75it/s]",
            "_view_count": null,
            "_view_module_version": "1.5.0",
            "description_tooltip": null,
            "_model_module": "@jupyter-widgets/controls",
            "layout": "IPY_MODEL_fd3232a972ca42778d7d68cd3035d454"
          }
        },
        "f1210c3ff0504f5b94bfd18c260bfaf8": {
          "model_module": "@jupyter-widgets/controls",
          "model_name": "ProgressStyleModel",
          "state": {
            "_view_name": "StyleView",
            "_model_name": "ProgressStyleModel",
            "description_width": "initial",
            "_view_module": "@jupyter-widgets/base",
            "_model_module_version": "1.5.0",
            "_view_count": null,
            "_view_module_version": "1.2.0",
            "bar_color": null,
            "_model_module": "@jupyter-widgets/controls"
          }
        },
        "1b146af438a6450688d7ad576cf7ebc1": {
          "model_module": "@jupyter-widgets/base",
          "model_name": "LayoutModel",
          "state": {
            "_view_name": "LayoutView",
            "grid_template_rows": null,
            "right": null,
            "justify_content": null,
            "_view_module": "@jupyter-widgets/base",
            "overflow": null,
            "_model_module_version": "1.2.0",
            "_view_count": null,
            "flex_flow": null,
            "width": null,
            "min_width": null,
            "border": null,
            "align_items": null,
            "bottom": null,
            "_model_module": "@jupyter-widgets/base",
            "top": null,
            "grid_column": null,
            "overflow_y": null,
            "overflow_x": null,
            "grid_auto_flow": null,
            "grid_area": null,
            "grid_template_columns": null,
            "flex": null,
            "_model_name": "LayoutModel",
            "justify_items": null,
            "grid_row": null,
            "max_height": null,
            "align_content": null,
            "visibility": null,
            "align_self": null,
            "height": null,
            "min_height": null,
            "padding": null,
            "grid_auto_rows": null,
            "grid_gap": null,
            "max_width": null,
            "order": null,
            "_view_module_version": "1.2.0",
            "grid_template_areas": null,
            "object_position": null,
            "object_fit": null,
            "grid_auto_columns": null,
            "margin": null,
            "display": null,
            "left": null
          }
        },
        "1a41ff4569f04955b48d6739f2c99e57": {
          "model_module": "@jupyter-widgets/controls",
          "model_name": "DescriptionStyleModel",
          "state": {
            "_view_name": "StyleView",
            "_model_name": "DescriptionStyleModel",
            "description_width": "",
            "_view_module": "@jupyter-widgets/base",
            "_model_module_version": "1.5.0",
            "_view_count": null,
            "_view_module_version": "1.2.0",
            "_model_module": "@jupyter-widgets/controls"
          }
        },
        "fd3232a972ca42778d7d68cd3035d454": {
          "model_module": "@jupyter-widgets/base",
          "model_name": "LayoutModel",
          "state": {
            "_view_name": "LayoutView",
            "grid_template_rows": null,
            "right": null,
            "justify_content": null,
            "_view_module": "@jupyter-widgets/base",
            "overflow": null,
            "_model_module_version": "1.2.0",
            "_view_count": null,
            "flex_flow": null,
            "width": null,
            "min_width": null,
            "border": null,
            "align_items": null,
            "bottom": null,
            "_model_module": "@jupyter-widgets/base",
            "top": null,
            "grid_column": null,
            "overflow_y": null,
            "overflow_x": null,
            "grid_auto_flow": null,
            "grid_area": null,
            "grid_template_columns": null,
            "flex": null,
            "_model_name": "LayoutModel",
            "justify_items": null,
            "grid_row": null,
            "max_height": null,
            "align_content": null,
            "visibility": null,
            "align_self": null,
            "height": null,
            "min_height": null,
            "padding": null,
            "grid_auto_rows": null,
            "grid_gap": null,
            "max_width": null,
            "order": null,
            "_view_module_version": "1.2.0",
            "grid_template_areas": null,
            "object_position": null,
            "object_fit": null,
            "grid_auto_columns": null,
            "margin": null,
            "display": null,
            "left": null
          }
        },
        "1e266bc9937641d6948f89a4f84532d1": {
          "model_module": "@jupyter-widgets/controls",
          "model_name": "HBoxModel",
          "state": {
            "_view_name": "HBoxView",
            "_dom_classes": [],
            "_model_name": "HBoxModel",
            "_view_module": "@jupyter-widgets/controls",
            "_model_module_version": "1.5.0",
            "_view_count": null,
            "_view_module_version": "1.5.0",
            "box_style": "",
            "layout": "IPY_MODEL_342f498ddc714be9ba9e3a51d1089da3",
            "_model_module": "@jupyter-widgets/controls",
            "children": [
              "IPY_MODEL_4bb8c1cdd70f43e29c3247f63b8f0355",
              "IPY_MODEL_6f008d6a994b437f9d948ae6ef5f868f"
            ]
          }
        },
        "342f498ddc714be9ba9e3a51d1089da3": {
          "model_module": "@jupyter-widgets/base",
          "model_name": "LayoutModel",
          "state": {
            "_view_name": "LayoutView",
            "grid_template_rows": null,
            "right": null,
            "justify_content": null,
            "_view_module": "@jupyter-widgets/base",
            "overflow": null,
            "_model_module_version": "1.2.0",
            "_view_count": null,
            "flex_flow": null,
            "width": null,
            "min_width": null,
            "border": null,
            "align_items": null,
            "bottom": null,
            "_model_module": "@jupyter-widgets/base",
            "top": null,
            "grid_column": null,
            "overflow_y": null,
            "overflow_x": null,
            "grid_auto_flow": null,
            "grid_area": null,
            "grid_template_columns": null,
            "flex": null,
            "_model_name": "LayoutModel",
            "justify_items": null,
            "grid_row": null,
            "max_height": null,
            "align_content": null,
            "visibility": null,
            "align_self": null,
            "height": null,
            "min_height": null,
            "padding": null,
            "grid_auto_rows": null,
            "grid_gap": null,
            "max_width": null,
            "order": null,
            "_view_module_version": "1.2.0",
            "grid_template_areas": null,
            "object_position": null,
            "object_fit": null,
            "grid_auto_columns": null,
            "margin": null,
            "display": null,
            "left": null
          }
        },
        "4bb8c1cdd70f43e29c3247f63b8f0355": {
          "model_module": "@jupyter-widgets/controls",
          "model_name": "FloatProgressModel",
          "state": {
            "_view_name": "ProgressView",
            "style": "IPY_MODEL_ba22feef045944cca0f4ae92b43c2083",
            "_dom_classes": [],
            "description": "",
            "_model_name": "FloatProgressModel",
            "bar_style": "success",
            "max": 4422102,
            "_view_module": "@jupyter-widgets/controls",
            "_model_module_version": "1.5.0",
            "value": 4422102,
            "_view_count": null,
            "_view_module_version": "1.5.0",
            "orientation": "horizontal",
            "min": 0,
            "description_tooltip": null,
            "_model_module": "@jupyter-widgets/controls",
            "layout": "IPY_MODEL_fafae23cfb6f47d09c9f13b6bdbbda2a"
          }
        },
        "6f008d6a994b437f9d948ae6ef5f868f": {
          "model_module": "@jupyter-widgets/controls",
          "model_name": "HTMLModel",
          "state": {
            "_view_name": "HTMLView",
            "style": "IPY_MODEL_172fb8f248f445d49236043209098637",
            "_dom_classes": [],
            "description": "",
            "_model_name": "HTMLModel",
            "placeholder": "​",
            "_view_module": "@jupyter-widgets/controls",
            "_model_module_version": "1.5.0",
            "value": " 4422656/? [00:23&lt;00:00, 184947.53it/s]",
            "_view_count": null,
            "_view_module_version": "1.5.0",
            "description_tooltip": null,
            "_model_module": "@jupyter-widgets/controls",
            "layout": "IPY_MODEL_516d6d6169d54bd6a60eda259edbe395"
          }
        },
        "ba22feef045944cca0f4ae92b43c2083": {
          "model_module": "@jupyter-widgets/controls",
          "model_name": "ProgressStyleModel",
          "state": {
            "_view_name": "StyleView",
            "_model_name": "ProgressStyleModel",
            "description_width": "initial",
            "_view_module": "@jupyter-widgets/base",
            "_model_module_version": "1.5.0",
            "_view_count": null,
            "_view_module_version": "1.2.0",
            "bar_color": null,
            "_model_module": "@jupyter-widgets/controls"
          }
        },
        "fafae23cfb6f47d09c9f13b6bdbbda2a": {
          "model_module": "@jupyter-widgets/base",
          "model_name": "LayoutModel",
          "state": {
            "_view_name": "LayoutView",
            "grid_template_rows": null,
            "right": null,
            "justify_content": null,
            "_view_module": "@jupyter-widgets/base",
            "overflow": null,
            "_model_module_version": "1.2.0",
            "_view_count": null,
            "flex_flow": null,
            "width": null,
            "min_width": null,
            "border": null,
            "align_items": null,
            "bottom": null,
            "_model_module": "@jupyter-widgets/base",
            "top": null,
            "grid_column": null,
            "overflow_y": null,
            "overflow_x": null,
            "grid_auto_flow": null,
            "grid_area": null,
            "grid_template_columns": null,
            "flex": null,
            "_model_name": "LayoutModel",
            "justify_items": null,
            "grid_row": null,
            "max_height": null,
            "align_content": null,
            "visibility": null,
            "align_self": null,
            "height": null,
            "min_height": null,
            "padding": null,
            "grid_auto_rows": null,
            "grid_gap": null,
            "max_width": null,
            "order": null,
            "_view_module_version": "1.2.0",
            "grid_template_areas": null,
            "object_position": null,
            "object_fit": null,
            "grid_auto_columns": null,
            "margin": null,
            "display": null,
            "left": null
          }
        },
        "172fb8f248f445d49236043209098637": {
          "model_module": "@jupyter-widgets/controls",
          "model_name": "DescriptionStyleModel",
          "state": {
            "_view_name": "StyleView",
            "_model_name": "DescriptionStyleModel",
            "description_width": "",
            "_view_module": "@jupyter-widgets/base",
            "_model_module_version": "1.5.0",
            "_view_count": null,
            "_view_module_version": "1.2.0",
            "_model_module": "@jupyter-widgets/controls"
          }
        },
        "516d6d6169d54bd6a60eda259edbe395": {
          "model_module": "@jupyter-widgets/base",
          "model_name": "LayoutModel",
          "state": {
            "_view_name": "LayoutView",
            "grid_template_rows": null,
            "right": null,
            "justify_content": null,
            "_view_module": "@jupyter-widgets/base",
            "overflow": null,
            "_model_module_version": "1.2.0",
            "_view_count": null,
            "flex_flow": null,
            "width": null,
            "min_width": null,
            "border": null,
            "align_items": null,
            "bottom": null,
            "_model_module": "@jupyter-widgets/base",
            "top": null,
            "grid_column": null,
            "overflow_y": null,
            "overflow_x": null,
            "grid_auto_flow": null,
            "grid_area": null,
            "grid_template_columns": null,
            "flex": null,
            "_model_name": "LayoutModel",
            "justify_items": null,
            "grid_row": null,
            "max_height": null,
            "align_content": null,
            "visibility": null,
            "align_self": null,
            "height": null,
            "min_height": null,
            "padding": null,
            "grid_auto_rows": null,
            "grid_gap": null,
            "max_width": null,
            "order": null,
            "_view_module_version": "1.2.0",
            "grid_template_areas": null,
            "object_position": null,
            "object_fit": null,
            "grid_auto_columns": null,
            "margin": null,
            "display": null,
            "left": null
          }
        },
        "a18bd1a637ce4f4190ea78f5b1c87be5": {
          "model_module": "@jupyter-widgets/controls",
          "model_name": "HBoxModel",
          "state": {
            "_view_name": "HBoxView",
            "_dom_classes": [],
            "_model_name": "HBoxModel",
            "_view_module": "@jupyter-widgets/controls",
            "_model_module_version": "1.5.0",
            "_view_count": null,
            "_view_module_version": "1.5.0",
            "box_style": "",
            "layout": "IPY_MODEL_354970ccfdbb43449c0a5afc6a054e24",
            "_model_module": "@jupyter-widgets/controls",
            "children": [
              "IPY_MODEL_8f13d9168b6844aa937b545167e79f60",
              "IPY_MODEL_cc31679d435f4572ac1d79730909713a"
            ]
          }
        },
        "354970ccfdbb43449c0a5afc6a054e24": {
          "model_module": "@jupyter-widgets/base",
          "model_name": "LayoutModel",
          "state": {
            "_view_name": "LayoutView",
            "grid_template_rows": null,
            "right": null,
            "justify_content": null,
            "_view_module": "@jupyter-widgets/base",
            "overflow": null,
            "_model_module_version": "1.2.0",
            "_view_count": null,
            "flex_flow": null,
            "width": null,
            "min_width": null,
            "border": null,
            "align_items": null,
            "bottom": null,
            "_model_module": "@jupyter-widgets/base",
            "top": null,
            "grid_column": null,
            "overflow_y": null,
            "overflow_x": null,
            "grid_auto_flow": null,
            "grid_area": null,
            "grid_template_columns": null,
            "flex": null,
            "_model_name": "LayoutModel",
            "justify_items": null,
            "grid_row": null,
            "max_height": null,
            "align_content": null,
            "visibility": null,
            "align_self": null,
            "height": null,
            "min_height": null,
            "padding": null,
            "grid_auto_rows": null,
            "grid_gap": null,
            "max_width": null,
            "order": null,
            "_view_module_version": "1.2.0",
            "grid_template_areas": null,
            "object_position": null,
            "object_fit": null,
            "grid_auto_columns": null,
            "margin": null,
            "display": null,
            "left": null
          }
        },
        "8f13d9168b6844aa937b545167e79f60": {
          "model_module": "@jupyter-widgets/controls",
          "model_name": "FloatProgressModel",
          "state": {
            "_view_name": "ProgressView",
            "style": "IPY_MODEL_e94e1a250e9c45499b2030209fca8d09",
            "_dom_classes": [],
            "description": "",
            "_model_name": "FloatProgressModel",
            "bar_style": "success",
            "max": 5148,
            "_view_module": "@jupyter-widgets/controls",
            "_model_module_version": "1.5.0",
            "value": 5148,
            "_view_count": null,
            "_view_module_version": "1.5.0",
            "orientation": "horizontal",
            "min": 0,
            "description_tooltip": null,
            "_model_module": "@jupyter-widgets/controls",
            "layout": "IPY_MODEL_c1ca3f2e99324abb9719665d376d227e"
          }
        },
        "cc31679d435f4572ac1d79730909713a": {
          "model_module": "@jupyter-widgets/controls",
          "model_name": "HTMLModel",
          "state": {
            "_view_name": "HTMLView",
            "style": "IPY_MODEL_d96a9926662c46a696f7dd9e9262eacf",
            "_dom_classes": [],
            "description": "",
            "_model_name": "HTMLModel",
            "placeholder": "​",
            "_view_module": "@jupyter-widgets/controls",
            "_model_module_version": "1.5.0",
            "value": " 6144/? [00:00&lt;00:00, 15475.11it/s]",
            "_view_count": null,
            "_view_module_version": "1.5.0",
            "description_tooltip": null,
            "_model_module": "@jupyter-widgets/controls",
            "layout": "IPY_MODEL_bd194297f177422291f2b5fc3fb50165"
          }
        },
        "e94e1a250e9c45499b2030209fca8d09": {
          "model_module": "@jupyter-widgets/controls",
          "model_name": "ProgressStyleModel",
          "state": {
            "_view_name": "StyleView",
            "_model_name": "ProgressStyleModel",
            "description_width": "initial",
            "_view_module": "@jupyter-widgets/base",
            "_model_module_version": "1.5.0",
            "_view_count": null,
            "_view_module_version": "1.2.0",
            "bar_color": null,
            "_model_module": "@jupyter-widgets/controls"
          }
        },
        "c1ca3f2e99324abb9719665d376d227e": {
          "model_module": "@jupyter-widgets/base",
          "model_name": "LayoutModel",
          "state": {
            "_view_name": "LayoutView",
            "grid_template_rows": null,
            "right": null,
            "justify_content": null,
            "_view_module": "@jupyter-widgets/base",
            "overflow": null,
            "_model_module_version": "1.2.0",
            "_view_count": null,
            "flex_flow": null,
            "width": null,
            "min_width": null,
            "border": null,
            "align_items": null,
            "bottom": null,
            "_model_module": "@jupyter-widgets/base",
            "top": null,
            "grid_column": null,
            "overflow_y": null,
            "overflow_x": null,
            "grid_auto_flow": null,
            "grid_area": null,
            "grid_template_columns": null,
            "flex": null,
            "_model_name": "LayoutModel",
            "justify_items": null,
            "grid_row": null,
            "max_height": null,
            "align_content": null,
            "visibility": null,
            "align_self": null,
            "height": null,
            "min_height": null,
            "padding": null,
            "grid_auto_rows": null,
            "grid_gap": null,
            "max_width": null,
            "order": null,
            "_view_module_version": "1.2.0",
            "grid_template_areas": null,
            "object_position": null,
            "object_fit": null,
            "grid_auto_columns": null,
            "margin": null,
            "display": null,
            "left": null
          }
        },
        "d96a9926662c46a696f7dd9e9262eacf": {
          "model_module": "@jupyter-widgets/controls",
          "model_name": "DescriptionStyleModel",
          "state": {
            "_view_name": "StyleView",
            "_model_name": "DescriptionStyleModel",
            "description_width": "",
            "_view_module": "@jupyter-widgets/base",
            "_model_module_version": "1.5.0",
            "_view_count": null,
            "_view_module_version": "1.2.0",
            "_model_module": "@jupyter-widgets/controls"
          }
        },
        "bd194297f177422291f2b5fc3fb50165": {
          "model_module": "@jupyter-widgets/base",
          "model_name": "LayoutModel",
          "state": {
            "_view_name": "LayoutView",
            "grid_template_rows": null,
            "right": null,
            "justify_content": null,
            "_view_module": "@jupyter-widgets/base",
            "overflow": null,
            "_model_module_version": "1.2.0",
            "_view_count": null,
            "flex_flow": null,
            "width": null,
            "min_width": null,
            "border": null,
            "align_items": null,
            "bottom": null,
            "_model_module": "@jupyter-widgets/base",
            "top": null,
            "grid_column": null,
            "overflow_y": null,
            "overflow_x": null,
            "grid_auto_flow": null,
            "grid_area": null,
            "grid_template_columns": null,
            "flex": null,
            "_model_name": "LayoutModel",
            "justify_items": null,
            "grid_row": null,
            "max_height": null,
            "align_content": null,
            "visibility": null,
            "align_self": null,
            "height": null,
            "min_height": null,
            "padding": null,
            "grid_auto_rows": null,
            "grid_gap": null,
            "max_width": null,
            "order": null,
            "_view_module_version": "1.2.0",
            "grid_template_areas": null,
            "object_position": null,
            "object_fit": null,
            "grid_auto_columns": null,
            "margin": null,
            "display": null,
            "left": null
          }
        }
      }
    }
  },
  "cells": [
    {
      "cell_type": "markdown",
      "metadata": {
        "id": "view-in-github",
        "colab_type": "text"
      },
      "source": [
        "<a href=\"https://colab.research.google.com/github/dvd42/Classification_Model-SVM-Logistic_Regression-/blob/master/W14_01_Metric_Learning_Solution.ipynb\" target=\"_parent\"><img src=\"https://colab.research.google.com/assets/colab-badge.svg\" alt=\"Open In Colab\"/></a>"
      ]
    },
    {
      "cell_type": "code",
      "metadata": {
        "id": "Awh57l7BzIXx"
      },
      "source": [
        "import os\n",
        "import random\n",
        "\n",
        "import torch\n",
        "from torch.optim import lr_scheduler\n",
        "import torch.optim as optim\n",
        "\n",
        "import numpy as np\n",
        "\n",
        "%matplotlib inline\n",
        "import matplotlib\n",
        "import matplotlib.pyplot as plt\n",
        "\n",
        "from torchvision.datasets import FashionMNIST\n",
        "from torchvision import transforms\n",
        "from torchvision.utils import make_grid\n",
        "import torch.nn as nn\n",
        "import torch.nn.functional as F\n",
        "from torch.utils.data import Dataset\n",
        "from PIL import Image\n",
        "\n",
        "fashion_mnist_classes = ['T-shirt/top', 'Trouser', 'Pullover', 'Dress', 'Coat',\n",
        "                         'Sandal', 'Shirt', 'Sneaker', 'Bag', 'Ankle boot']\n",
        "colors = ['#1f77b4', '#ff7f0e', '#2ca02c', '#d62728',\n",
        "              '#9467bd', '#8c564b', '#e377c2', '#7f7f7f',\n",
        "              '#bcbd22', '#17becf']\n",
        "\n",
        "def plot_embeddings(embeddings, targets, xlim=None, ylim=None):\n",
        "    plt.figure(figsize=(10,10))\n",
        "    for i in range(10):\n",
        "        inds = np.where(targets==i)[0]\n",
        "        plt.scatter(embeddings[inds,0], embeddings[inds,1], alpha=0.5, color=colors[i])\n",
        "    if xlim:\n",
        "        plt.xlim(xlim[0], xlim[1])\n",
        "    if ylim:\n",
        "        plt.ylim(ylim[0], ylim[1])\n",
        "    plt.legend(fashion_mnist_classes)\n",
        "\n",
        "\n",
        "def extract_embeddings(dataloader, model):\n",
        "    with torch.no_grad():\n",
        "        model.eval()\n",
        "        embeddings = np.zeros((len(dataloader.dataset), 2))\n",
        "        labels = np.zeros(len(dataloader.dataset))\n",
        "        k = 0\n",
        "        for images, target in dataloader:\n",
        "            images = images.cuda()\n",
        "            embeddings[k:k+len(images)] = model.get_embedding(images).data.cpu().numpy()\n",
        "            labels[k:k+len(images)] = target.numpy()\n",
        "            k += len(images)\n",
        "    return embeddings, labels\n"
      ],
      "execution_count": 2,
      "outputs": []
    },
    {
      "cell_type": "code",
      "metadata": {
        "colab": {
          "base_uri": "https://localhost:8080/",
          "height": 573,
          "referenced_widgets": [
            "ae69aead8ff046e88c0f6dcdc9b91bc9",
            "d165d16b5529436587aea3cc096e4327",
            "9645117db239487ab42bba14d87938bb",
            "eae4951774f0451a8c3e1e963646ce9e",
            "c068751e23234e6b82bc66a0eb3ab141",
            "a6b733233065410f95ba6a60529f9fe9",
            "d98d72a497a84f809e8379a482cae2c8",
            "016453eb2c304e96803354130161e4cc",
            "e7f05fa156ec4a83972c0db5d10c1250",
            "90c2da29a76944a5832e4b62276a0dce",
            "89f161ea3b7b47958465a694ee402658",
            "f141192a98cd46e795ba7578c93bf528",
            "f1210c3ff0504f5b94bfd18c260bfaf8",
            "1b146af438a6450688d7ad576cf7ebc1",
            "1a41ff4569f04955b48d6739f2c99e57",
            "fd3232a972ca42778d7d68cd3035d454",
            "1e266bc9937641d6948f89a4f84532d1",
            "342f498ddc714be9ba9e3a51d1089da3",
            "4bb8c1cdd70f43e29c3247f63b8f0355",
            "6f008d6a994b437f9d948ae6ef5f868f",
            "ba22feef045944cca0f4ae92b43c2083",
            "fafae23cfb6f47d09c9f13b6bdbbda2a",
            "172fb8f248f445d49236043209098637",
            "516d6d6169d54bd6a60eda259edbe395",
            "a18bd1a637ce4f4190ea78f5b1c87be5",
            "354970ccfdbb43449c0a5afc6a054e24",
            "8f13d9168b6844aa937b545167e79f60",
            "cc31679d435f4572ac1d79730909713a",
            "e94e1a250e9c45499b2030209fca8d09",
            "c1ca3f2e99324abb9719665d376d227e",
            "d96a9926662c46a696f7dd9e9262eacf",
            "bd194297f177422291f2b5fc3fb50165"
          ]
        },
        "id": "LBQxaGxXzNqo",
        "outputId": "c955428f-a6c4-405e-820f-3a8fad4569e7"
      },
      "source": [
        "mean, std = 0.28604059698879553, 0.35302424451492237\n",
        "\n",
        "train_dataset = FashionMNIST('data', train=True, download=True,\n",
        "                             transform=transforms.Compose([\n",
        "                                 transforms.ToTensor(),\n",
        "                                 transforms.Normalize((mean,), (std,))\n",
        "                             ]))\n",
        "test_dataset = FashionMNIST('data', train=False, download=True,\n",
        "                            transform=transforms.Compose([\n",
        "                                transforms.ToTensor(),\n",
        "                                transforms.Normalize((mean,), (std,))\n",
        "                            ]))"
      ],
      "execution_count": 3,
      "outputs": [
        {
          "output_type": "stream",
          "text": [
            "Downloading http://fashion-mnist.s3-website.eu-central-1.amazonaws.com/train-images-idx3-ubyte.gz\n",
            "Downloading http://fashion-mnist.s3-website.eu-central-1.amazonaws.com/train-images-idx3-ubyte.gz to data/FashionMNIST/raw/train-images-idx3-ubyte.gz\n"
          ],
          "name": "stdout"
        },
        {
          "output_type": "display_data",
          "data": {
            "application/vnd.jupyter.widget-view+json": {
              "model_id": "ae69aead8ff046e88c0f6dcdc9b91bc9",
              "version_minor": 0,
              "version_major": 2
            },
            "text/plain": [
              "HBox(children=(FloatProgress(value=0.0, max=26421880.0), HTML(value='')))"
            ]
          },
          "metadata": {
            "tags": []
          }
        },
        {
          "output_type": "stream",
          "text": [
            "\n",
            "Extracting data/FashionMNIST/raw/train-images-idx3-ubyte.gz to data/FashionMNIST/raw\n",
            "\n",
            "Downloading http://fashion-mnist.s3-website.eu-central-1.amazonaws.com/train-labels-idx1-ubyte.gz\n",
            "Downloading http://fashion-mnist.s3-website.eu-central-1.amazonaws.com/train-labels-idx1-ubyte.gz to data/FashionMNIST/raw/train-labels-idx1-ubyte.gz\n"
          ],
          "name": "stdout"
        },
        {
          "output_type": "display_data",
          "data": {
            "application/vnd.jupyter.widget-view+json": {
              "model_id": "e7f05fa156ec4a83972c0db5d10c1250",
              "version_minor": 0,
              "version_major": 2
            },
            "text/plain": [
              "HBox(children=(FloatProgress(value=0.0, max=29515.0), HTML(value='')))"
            ]
          },
          "metadata": {
            "tags": []
          }
        },
        {
          "output_type": "stream",
          "text": [
            "\n",
            "Extracting data/FashionMNIST/raw/train-labels-idx1-ubyte.gz to data/FashionMNIST/raw\n",
            "\n",
            "Downloading http://fashion-mnist.s3-website.eu-central-1.amazonaws.com/t10k-images-idx3-ubyte.gz\n",
            "Downloading http://fashion-mnist.s3-website.eu-central-1.amazonaws.com/t10k-images-idx3-ubyte.gz to data/FashionMNIST/raw/t10k-images-idx3-ubyte.gz\n"
          ],
          "name": "stdout"
        },
        {
          "output_type": "display_data",
          "data": {
            "application/vnd.jupyter.widget-view+json": {
              "model_id": "1e266bc9937641d6948f89a4f84532d1",
              "version_minor": 0,
              "version_major": 2
            },
            "text/plain": [
              "HBox(children=(FloatProgress(value=0.0, max=4422102.0), HTML(value='')))"
            ]
          },
          "metadata": {
            "tags": []
          }
        },
        {
          "output_type": "stream",
          "text": [
            "\n",
            "Extracting data/FashionMNIST/raw/t10k-images-idx3-ubyte.gz to data/FashionMNIST/raw\n",
            "\n",
            "Downloading http://fashion-mnist.s3-website.eu-central-1.amazonaws.com/t10k-labels-idx1-ubyte.gz\n",
            "Downloading http://fashion-mnist.s3-website.eu-central-1.amazonaws.com/t10k-labels-idx1-ubyte.gz to data/FashionMNIST/raw/t10k-labels-idx1-ubyte.gz\n"
          ],
          "name": "stdout"
        },
        {
          "output_type": "display_data",
          "data": {
            "application/vnd.jupyter.widget-view+json": {
              "model_id": "a18bd1a637ce4f4190ea78f5b1c87be5",
              "version_minor": 0,
              "version_major": 2
            },
            "text/plain": [
              "HBox(children=(FloatProgress(value=0.0, max=5148.0), HTML(value='')))"
            ]
          },
          "metadata": {
            "tags": []
          }
        },
        {
          "output_type": "stream",
          "text": [
            "\n",
            "Extracting data/FashionMNIST/raw/t10k-labels-idx1-ubyte.gz to data/FashionMNIST/raw\n",
            "\n",
            "Processing...\n",
            "Done!\n"
          ],
          "name": "stdout"
        },
        {
          "output_type": "stream",
          "text": [
            "/usr/local/lib/python3.7/dist-packages/torchvision/datasets/mnist.py:502: UserWarning: The given NumPy array is not writeable, and PyTorch does not support non-writeable tensors. This means you can write to the underlying (supposedly non-writeable) NumPy array using the tensor. You may want to copy the array to protect its data or make it writeable before converting it to a tensor. This type of warning will be suppressed for the rest of this program. (Triggered internally at  /pytorch/torch/csrc/utils/tensor_numpy.cpp:143.)\n",
            "  return torch.from_numpy(parsed.astype(m[2], copy=False)).view(*s)\n"
          ],
          "name": "stderr"
        }
      ]
    },
    {
      "cell_type": "code",
      "metadata": {
        "id": "RRx3SsKDzyUg"
      },
      "source": [
        "#  use gpu if available\n",
        "device = torch.device(\"cuda\" if torch.cuda.is_available() else \"cpu\")\n",
        "\n",
        "#If this cell fails you need to change the runtime of your colab notebook to GPU\n",
        "# Go to Runtime -> Change Runtime Type and select GPU\n",
        "assert torch.cuda.is_available(), \"GPU is not enabled\""
      ],
      "execution_count": 4,
      "outputs": []
    },
    {
      "cell_type": "code",
      "metadata": {
        "id": "rLsX6268zcK5"
      },
      "source": [
        "# Set up data loaders\n",
        "batch_size = 256\n",
        "kwargs = {'num_workers': 2, 'pin_memory': True}\n",
        "train_loader = torch.utils.data.DataLoader(train_dataset, batch_size=batch_size, shuffle=True, **kwargs)\n",
        "test_loader = torch.utils.data.DataLoader(test_dataset, batch_size=batch_size, shuffle=False, **kwargs)"
      ],
      "execution_count": 5,
      "outputs": []
    },
    {
      "cell_type": "code",
      "metadata": {
        "id": "WaNvDKjqz7sx"
      },
      "source": [
        "class EmbeddingNet(nn.Module):\n",
        "    def __init__(self):\n",
        "        super(EmbeddingNet, self).__init__()\n",
        "        self.convnet = nn.Sequential(nn.Conv2d(1, 32, 5), nn.ReLU(),\n",
        "                                     nn.MaxPool2d(2, stride=2),\n",
        "                                     nn.Conv2d(32, 64, 5), nn.ReLU(),\n",
        "                                     nn.MaxPool2d(2, stride=2))\n",
        "\n",
        "        self.fc = nn.Sequential(nn.Linear(64 * 4 * 4, 256),\n",
        "                                nn.ReLU(),\n",
        "                                nn.Linear(256, 256),\n",
        "                                nn.ReLU(),\n",
        "                                nn.Linear(256, 2)\n",
        "                                )\n",
        "\n",
        "    def forward(self, x):\n",
        "        output = self.convnet(x)\n",
        "        output = output.view(output.size()[0], -1)\n",
        "        output = self.fc(output)\n",
        "        return output\n",
        "\n",
        "    def get_embedding(self, x):\n",
        "        return self.forward(x)\n",
        "\n",
        "\n",
        "class ClassificationNet(nn.Module):\n",
        "    def __init__(self, embedding_net, n_classes):\n",
        "        super(ClassificationNet, self).__init__()\n",
        "        self.embedding_net = embedding_net\n",
        "        self.n_classes = n_classes\n",
        "        self.nonlinear = nn.ReLU()\n",
        "        self.fc1 = nn.Linear(2, n_classes)\n",
        "\n",
        "    def forward(self, x):\n",
        "        output = self.embedding_net(x)\n",
        "        output = self.nonlinear(output)\n",
        "        scores = F.log_softmax(self.fc1(output), dim=-1)\n",
        "        return scores\n",
        "\n",
        "    def get_embedding(self, x):\n",
        "        return self.nonlinear(self.embedding_net(x))"
      ],
      "execution_count": 6,
      "outputs": []
    },
    {
      "cell_type": "code",
      "metadata": {
        "id": "gtL_J5BR0zyy"
      },
      "source": [
        "def train_epoch(train_loader, model, loss_fn, optimizer):\n",
        "\n",
        "    model.train()\n",
        "    losses = []\n",
        "    total_loss = 0\n",
        "    correct = 0\n",
        "\n",
        "    for batch_idx, (data, target) in enumerate(train_loader):\n",
        "        target = target if len(target) > 0 else None\n",
        "        if not type(data) in (tuple, list):\n",
        "            data = (data,)\n",
        "        if target is not None:\n",
        "            target = target.to(device)\n",
        "\n",
        "        data = tuple(d.to(device) for d in data)\n",
        "\n",
        "        optimizer.zero_grad()\n",
        "\n",
        "        outputs = model(*data)\n",
        "\n",
        "        if type(outputs) not in (tuple, list):\n",
        "            outputs = (outputs,)\n",
        "\n",
        "        loss_inputs = outputs\n",
        "        if target is not None:\n",
        "            target = (target,)\n",
        "            loss_inputs += target\n",
        "\n",
        "        loss_outputs = loss_fn(*loss_inputs)\n",
        "        loss = loss_outputs[0] if type(loss_outputs) in (tuple, list) else loss_outputs\n",
        "        losses.append(loss.item())\n",
        "        total_loss += loss.item()\n",
        "        loss.backward()\n",
        "        optimizer.step()\n",
        "\n",
        "        pred = outputs[0].max(1)[1]\n",
        "        correct += pred.eq(target[0].view_as(pred)).sum().item()\n",
        "\n",
        "    total_loss /= (batch_idx + 1)\n",
        "    accuracy = 100. * correct / len(train_loader.dataset)\n",
        "    return total_loss, accuracy\n",
        "\n",
        "@torch.no_grad()\n",
        "def test_epoch(val_loader, model, loss_fn):\n",
        "\n",
        "    model.eval()\n",
        "    val_loss = 0\n",
        "    correct = 0\n",
        "\n",
        "    for batch_idx, (data, target) in enumerate(val_loader):\n",
        "        target = target if len(target) > 0 else None\n",
        "        if not type(data) in (tuple, list):\n",
        "            data = (data,)\n",
        "            \n",
        "\n",
        "        data = tuple(d.to(device) for d in data)\n",
        "\n",
        "        outputs = model(*data)\n",
        "\n",
        "        if type(outputs) not in (tuple, list):\n",
        "            outputs = (outputs,)\n",
        "        loss_inputs = outputs\n",
        "        if target is not None:\n",
        "            target = (target.to(device),)\n",
        "            loss_inputs += target\n",
        "\n",
        "        pred = outputs[0].max(1)[1]\n",
        "        correct += pred.eq(target[0].view_as(pred)).sum().item()\n",
        "\n",
        "        loss_outputs = loss_fn(*loss_inputs)\n",
        "        loss = loss_outputs[0] if type(loss_outputs) in (tuple, list) else loss_outputs\n",
        "        val_loss += loss.item()\n",
        "\n",
        "    accuracy = 100. * correct / len(val_loader.dataset)\n",
        "    return val_loss, accuracy"
      ],
      "execution_count": 5,
      "outputs": []
    },
    {
      "cell_type": "code",
      "metadata": {
        "id": "XVAvJHSb4hus"
      },
      "source": [
        "embedding_net = EmbeddingNet().to(device)\n",
        "n_classes = 10\n",
        "model = ClassificationNet(embedding_net, n_classes=n_classes)\n",
        "model.to(device)\n",
        "loss_fn = torch.nn.NLLLoss()\n",
        "lr = 1e-3\n",
        "optimizer = optim.Adam(model.parameters(), lr=lr, weight_decay=1e-4)\n",
        "scheduler = lr_scheduler.StepLR(optimizer, 8, gamma=0.1, last_epoch=-1)\n",
        "n_epochs = 10"
      ],
      "execution_count": 10,
      "outputs": []
    },
    {
      "cell_type": "code",
      "metadata": {
        "colab": {
          "base_uri": "https://localhost:8080/",
          "height": 578
        },
        "id": "YMxyjx311r6K",
        "outputId": "bd2ad099-81c3-4766-ca03-07cc35ed9384"
      },
      "source": [
        "  for epoch in range(n_epochs):\n",
        "       \n",
        "        # Train stage\n",
        "        train_loss, acc = train_epoch(train_loader, model, loss_fn, optimizer)\n",
        "        scheduler.step()\n",
        "        message = 'Epoch: {}/{}. Train set: Average loss: {:.4f} Accuracy: {:.2f}'.format(epoch + 1, n_epochs, train_loss, acc)\n",
        "\n",
        "        val_loss, acc = test_epoch(test_loader, model, loss_fn)\n",
        "        val_loss /= len(test_loader)\n",
        "\n",
        "        message += '\\nEpoch: {}/{}. Validation set: Average loss: {:.4f} Accuracy: {:.2f}'.format(epoch + 1, n_epochs,\n",
        "                                                                                 val_loss, acc)\n",
        "\n",
        "        print(message)"
      ],
      "execution_count": null,
      "outputs": [
        {
          "output_type": "stream",
          "text": [
            "Epoch: 1/10. Train set: Average loss: 2.3323 Accuracy: 9.76\n",
            "Epoch: 1/10. Validation set: Average loss: 2.3028 Accuracy: 10.00\n",
            "Epoch: 2/10. Train set: Average loss: 2.3031 Accuracy: 9.84\n",
            "Epoch: 2/10. Validation set: Average loss: 2.3027 Accuracy: 10.00\n",
            "Epoch: 3/10. Train set: Average loss: 2.3031 Accuracy: 9.98\n",
            "Epoch: 3/10. Validation set: Average loss: 2.3030 Accuracy: 10.00\n",
            "Epoch: 4/10. Train set: Average loss: 2.3031 Accuracy: 10.01\n",
            "Epoch: 4/10. Validation set: Average loss: 2.3029 Accuracy: 10.00\n",
            "Epoch: 5/10. Train set: Average loss: 2.3031 Accuracy: 9.92\n",
            "Epoch: 5/10. Validation set: Average loss: 2.3031 Accuracy: 10.00\n",
            "Epoch: 6/10. Train set: Average loss: 2.3030 Accuracy: 9.95\n",
            "Epoch: 6/10. Validation set: Average loss: 2.3028 Accuracy: 10.00\n"
          ],
          "name": "stdout"
        },
        {
          "output_type": "error",
          "ename": "KeyboardInterrupt",
          "evalue": "ignored",
          "traceback": [
            "\u001b[0;31m---------------------------------------------------------------------------\u001b[0m",
            "\u001b[0;31mKeyboardInterrupt\u001b[0m                         Traceback (most recent call last)",
            "\u001b[0;32m<ipython-input-50-e080196b8cc9>\u001b[0m in \u001b[0;36m<module>\u001b[0;34m()\u001b[0m\n\u001b[1;32m      2\u001b[0m \u001b[0;34m\u001b[0m\u001b[0m\n\u001b[1;32m      3\u001b[0m       \u001b[0;31m# Train stage\u001b[0m\u001b[0;34m\u001b[0m\u001b[0;34m\u001b[0m\u001b[0;34m\u001b[0m\u001b[0m\n\u001b[0;32m----> 4\u001b[0;31m       \u001b[0mtrain_loss\u001b[0m\u001b[0;34m,\u001b[0m \u001b[0macc\u001b[0m \u001b[0;34m=\u001b[0m \u001b[0mtrain_epoch\u001b[0m\u001b[0;34m(\u001b[0m\u001b[0mtrain_loader\u001b[0m\u001b[0;34m,\u001b[0m \u001b[0mmodel\u001b[0m\u001b[0;34m,\u001b[0m \u001b[0mloss_fn\u001b[0m\u001b[0;34m,\u001b[0m \u001b[0moptimizer\u001b[0m\u001b[0;34m)\u001b[0m\u001b[0;34m\u001b[0m\u001b[0;34m\u001b[0m\u001b[0m\n\u001b[0m\u001b[1;32m      5\u001b[0m       \u001b[0mscheduler\u001b[0m\u001b[0;34m.\u001b[0m\u001b[0mstep\u001b[0m\u001b[0;34m(\u001b[0m\u001b[0;34m)\u001b[0m\u001b[0;34m\u001b[0m\u001b[0;34m\u001b[0m\u001b[0m\n\u001b[1;32m      6\u001b[0m       \u001b[0mmessage\u001b[0m \u001b[0;34m=\u001b[0m \u001b[0;34m'Epoch: {}/{}. Train set: Average loss: {:.4f} Accuracy: {:.2f}'\u001b[0m\u001b[0;34m.\u001b[0m\u001b[0mformat\u001b[0m\u001b[0;34m(\u001b[0m\u001b[0mepoch\u001b[0m \u001b[0;34m+\u001b[0m \u001b[0;36m1\u001b[0m\u001b[0;34m,\u001b[0m \u001b[0mn_epochs\u001b[0m\u001b[0;34m,\u001b[0m \u001b[0mtrain_loss\u001b[0m\u001b[0;34m,\u001b[0m \u001b[0macc\u001b[0m\u001b[0;34m)\u001b[0m\u001b[0;34m\u001b[0m\u001b[0;34m\u001b[0m\u001b[0m\n",
            "\u001b[0;32m<ipython-input-48-f5f28e9068ce>\u001b[0m in \u001b[0;36mtrain_epoch\u001b[0;34m(train_loader, model, loss_fn, optimizer)\u001b[0m\n\u001b[1;32m      6\u001b[0m     \u001b[0mcorrect\u001b[0m \u001b[0;34m=\u001b[0m \u001b[0;36m0\u001b[0m\u001b[0;34m\u001b[0m\u001b[0;34m\u001b[0m\u001b[0m\n\u001b[1;32m      7\u001b[0m \u001b[0;34m\u001b[0m\u001b[0m\n\u001b[0;32m----> 8\u001b[0;31m     \u001b[0;32mfor\u001b[0m \u001b[0mbatch_idx\u001b[0m\u001b[0;34m,\u001b[0m \u001b[0;34m(\u001b[0m\u001b[0mdata\u001b[0m\u001b[0;34m,\u001b[0m \u001b[0mtarget\u001b[0m\u001b[0;34m)\u001b[0m \u001b[0;32min\u001b[0m \u001b[0menumerate\u001b[0m\u001b[0;34m(\u001b[0m\u001b[0mtrain_loader\u001b[0m\u001b[0;34m)\u001b[0m\u001b[0;34m:\u001b[0m\u001b[0;34m\u001b[0m\u001b[0;34m\u001b[0m\u001b[0m\n\u001b[0m\u001b[1;32m      9\u001b[0m         \u001b[0mtarget\u001b[0m \u001b[0;34m=\u001b[0m \u001b[0mtarget\u001b[0m \u001b[0;32mif\u001b[0m \u001b[0mlen\u001b[0m\u001b[0;34m(\u001b[0m\u001b[0mtarget\u001b[0m\u001b[0;34m)\u001b[0m \u001b[0;34m>\u001b[0m \u001b[0;36m0\u001b[0m \u001b[0;32melse\u001b[0m \u001b[0;32mNone\u001b[0m\u001b[0;34m\u001b[0m\u001b[0;34m\u001b[0m\u001b[0m\n\u001b[1;32m     10\u001b[0m         \u001b[0;32mif\u001b[0m \u001b[0;32mnot\u001b[0m \u001b[0mtype\u001b[0m\u001b[0;34m(\u001b[0m\u001b[0mdata\u001b[0m\u001b[0;34m)\u001b[0m \u001b[0;32min\u001b[0m \u001b[0;34m(\u001b[0m\u001b[0mtuple\u001b[0m\u001b[0;34m,\u001b[0m \u001b[0mlist\u001b[0m\u001b[0;34m)\u001b[0m\u001b[0;34m:\u001b[0m\u001b[0;34m\u001b[0m\u001b[0;34m\u001b[0m\u001b[0m\n",
            "\u001b[0;32m/usr/local/lib/python3.7/dist-packages/torch/utils/data/dataloader.py\u001b[0m in \u001b[0;36m__next__\u001b[0;34m(self)\u001b[0m\n\u001b[1;32m    515\u001b[0m             \u001b[0;32mif\u001b[0m \u001b[0mself\u001b[0m\u001b[0;34m.\u001b[0m\u001b[0m_sampler_iter\u001b[0m \u001b[0;32mis\u001b[0m \u001b[0;32mNone\u001b[0m\u001b[0;34m:\u001b[0m\u001b[0;34m\u001b[0m\u001b[0;34m\u001b[0m\u001b[0m\n\u001b[1;32m    516\u001b[0m                 \u001b[0mself\u001b[0m\u001b[0;34m.\u001b[0m\u001b[0m_reset\u001b[0m\u001b[0;34m(\u001b[0m\u001b[0;34m)\u001b[0m\u001b[0;34m\u001b[0m\u001b[0;34m\u001b[0m\u001b[0m\n\u001b[0;32m--> 517\u001b[0;31m             \u001b[0mdata\u001b[0m \u001b[0;34m=\u001b[0m \u001b[0mself\u001b[0m\u001b[0;34m.\u001b[0m\u001b[0m_next_data\u001b[0m\u001b[0;34m(\u001b[0m\u001b[0;34m)\u001b[0m\u001b[0;34m\u001b[0m\u001b[0;34m\u001b[0m\u001b[0m\n\u001b[0m\u001b[1;32m    518\u001b[0m             \u001b[0mself\u001b[0m\u001b[0;34m.\u001b[0m\u001b[0m_num_yielded\u001b[0m \u001b[0;34m+=\u001b[0m \u001b[0;36m1\u001b[0m\u001b[0;34m\u001b[0m\u001b[0;34m\u001b[0m\u001b[0m\n\u001b[1;32m    519\u001b[0m             \u001b[0;32mif\u001b[0m \u001b[0mself\u001b[0m\u001b[0;34m.\u001b[0m\u001b[0m_dataset_kind\u001b[0m \u001b[0;34m==\u001b[0m \u001b[0m_DatasetKind\u001b[0m\u001b[0;34m.\u001b[0m\u001b[0mIterable\u001b[0m \u001b[0;32mand\u001b[0m\u001b[0;31m \u001b[0m\u001b[0;31m\\\u001b[0m\u001b[0;34m\u001b[0m\u001b[0;34m\u001b[0m\u001b[0m\n",
            "\u001b[0;32m/usr/local/lib/python3.7/dist-packages/torch/utils/data/dataloader.py\u001b[0m in \u001b[0;36m_next_data\u001b[0;34m(self)\u001b[0m\n\u001b[1;32m   1180\u001b[0m \u001b[0;34m\u001b[0m\u001b[0m\n\u001b[1;32m   1181\u001b[0m             \u001b[0;32massert\u001b[0m \u001b[0;32mnot\u001b[0m \u001b[0mself\u001b[0m\u001b[0;34m.\u001b[0m\u001b[0m_shutdown\u001b[0m \u001b[0;32mand\u001b[0m \u001b[0mself\u001b[0m\u001b[0;34m.\u001b[0m\u001b[0m_tasks_outstanding\u001b[0m \u001b[0;34m>\u001b[0m \u001b[0;36m0\u001b[0m\u001b[0;34m\u001b[0m\u001b[0;34m\u001b[0m\u001b[0m\n\u001b[0;32m-> 1182\u001b[0;31m             \u001b[0midx\u001b[0m\u001b[0;34m,\u001b[0m \u001b[0mdata\u001b[0m \u001b[0;34m=\u001b[0m \u001b[0mself\u001b[0m\u001b[0;34m.\u001b[0m\u001b[0m_get_data\u001b[0m\u001b[0;34m(\u001b[0m\u001b[0;34m)\u001b[0m\u001b[0;34m\u001b[0m\u001b[0;34m\u001b[0m\u001b[0m\n\u001b[0m\u001b[1;32m   1183\u001b[0m             \u001b[0mself\u001b[0m\u001b[0;34m.\u001b[0m\u001b[0m_tasks_outstanding\u001b[0m \u001b[0;34m-=\u001b[0m \u001b[0;36m1\u001b[0m\u001b[0;34m\u001b[0m\u001b[0;34m\u001b[0m\u001b[0m\n\u001b[1;32m   1184\u001b[0m             \u001b[0;32mif\u001b[0m \u001b[0mself\u001b[0m\u001b[0;34m.\u001b[0m\u001b[0m_dataset_kind\u001b[0m \u001b[0;34m==\u001b[0m \u001b[0m_DatasetKind\u001b[0m\u001b[0;34m.\u001b[0m\u001b[0mIterable\u001b[0m\u001b[0;34m:\u001b[0m\u001b[0;34m\u001b[0m\u001b[0;34m\u001b[0m\u001b[0m\n",
            "\u001b[0;32m/usr/local/lib/python3.7/dist-packages/torch/utils/data/dataloader.py\u001b[0m in \u001b[0;36m_get_data\u001b[0;34m(self)\u001b[0m\n\u001b[1;32m   1136\u001b[0m         \u001b[0;32melif\u001b[0m \u001b[0mself\u001b[0m\u001b[0;34m.\u001b[0m\u001b[0m_pin_memory\u001b[0m\u001b[0;34m:\u001b[0m\u001b[0;34m\u001b[0m\u001b[0;34m\u001b[0m\u001b[0m\n\u001b[1;32m   1137\u001b[0m             \u001b[0;32mwhile\u001b[0m \u001b[0mself\u001b[0m\u001b[0;34m.\u001b[0m\u001b[0m_pin_memory_thread\u001b[0m\u001b[0;34m.\u001b[0m\u001b[0mis_alive\u001b[0m\u001b[0;34m(\u001b[0m\u001b[0;34m)\u001b[0m\u001b[0;34m:\u001b[0m\u001b[0;34m\u001b[0m\u001b[0;34m\u001b[0m\u001b[0m\n\u001b[0;32m-> 1138\u001b[0;31m                 \u001b[0msuccess\u001b[0m\u001b[0;34m,\u001b[0m \u001b[0mdata\u001b[0m \u001b[0;34m=\u001b[0m \u001b[0mself\u001b[0m\u001b[0;34m.\u001b[0m\u001b[0m_try_get_data\u001b[0m\u001b[0;34m(\u001b[0m\u001b[0;34m)\u001b[0m\u001b[0;34m\u001b[0m\u001b[0;34m\u001b[0m\u001b[0m\n\u001b[0m\u001b[1;32m   1139\u001b[0m                 \u001b[0;32mif\u001b[0m \u001b[0msuccess\u001b[0m\u001b[0;34m:\u001b[0m\u001b[0;34m\u001b[0m\u001b[0;34m\u001b[0m\u001b[0m\n\u001b[1;32m   1140\u001b[0m                     \u001b[0;32mreturn\u001b[0m \u001b[0mdata\u001b[0m\u001b[0;34m\u001b[0m\u001b[0;34m\u001b[0m\u001b[0m\n",
            "\u001b[0;32m/usr/local/lib/python3.7/dist-packages/torch/utils/data/dataloader.py\u001b[0m in \u001b[0;36m_try_get_data\u001b[0;34m(self, timeout)\u001b[0m\n\u001b[1;32m    984\u001b[0m         \u001b[0;31m#   (bool: whether successfully get data, any: data if successful else None)\u001b[0m\u001b[0;34m\u001b[0m\u001b[0;34m\u001b[0m\u001b[0;34m\u001b[0m\u001b[0m\n\u001b[1;32m    985\u001b[0m         \u001b[0;32mtry\u001b[0m\u001b[0;34m:\u001b[0m\u001b[0;34m\u001b[0m\u001b[0;34m\u001b[0m\u001b[0m\n\u001b[0;32m--> 986\u001b[0;31m             \u001b[0mdata\u001b[0m \u001b[0;34m=\u001b[0m \u001b[0mself\u001b[0m\u001b[0;34m.\u001b[0m\u001b[0m_data_queue\u001b[0m\u001b[0;34m.\u001b[0m\u001b[0mget\u001b[0m\u001b[0;34m(\u001b[0m\u001b[0mtimeout\u001b[0m\u001b[0;34m=\u001b[0m\u001b[0mtimeout\u001b[0m\u001b[0;34m)\u001b[0m\u001b[0;34m\u001b[0m\u001b[0;34m\u001b[0m\u001b[0m\n\u001b[0m\u001b[1;32m    987\u001b[0m             \u001b[0;32mreturn\u001b[0m \u001b[0;34m(\u001b[0m\u001b[0;32mTrue\u001b[0m\u001b[0;34m,\u001b[0m \u001b[0mdata\u001b[0m\u001b[0;34m)\u001b[0m\u001b[0;34m\u001b[0m\u001b[0;34m\u001b[0m\u001b[0m\n\u001b[1;32m    988\u001b[0m         \u001b[0;32mexcept\u001b[0m \u001b[0mException\u001b[0m \u001b[0;32mas\u001b[0m \u001b[0me\u001b[0m\u001b[0;34m:\u001b[0m\u001b[0;34m\u001b[0m\u001b[0;34m\u001b[0m\u001b[0m\n",
            "\u001b[0;32m/usr/lib/python3.7/queue.py\u001b[0m in \u001b[0;36mget\u001b[0;34m(self, block, timeout)\u001b[0m\n\u001b[1;32m    177\u001b[0m                     \u001b[0;32mif\u001b[0m \u001b[0mremaining\u001b[0m \u001b[0;34m<=\u001b[0m \u001b[0;36m0.0\u001b[0m\u001b[0;34m:\u001b[0m\u001b[0;34m\u001b[0m\u001b[0;34m\u001b[0m\u001b[0m\n\u001b[1;32m    178\u001b[0m                         \u001b[0;32mraise\u001b[0m \u001b[0mEmpty\u001b[0m\u001b[0;34m\u001b[0m\u001b[0;34m\u001b[0m\u001b[0m\n\u001b[0;32m--> 179\u001b[0;31m                     \u001b[0mself\u001b[0m\u001b[0;34m.\u001b[0m\u001b[0mnot_empty\u001b[0m\u001b[0;34m.\u001b[0m\u001b[0mwait\u001b[0m\u001b[0;34m(\u001b[0m\u001b[0mremaining\u001b[0m\u001b[0;34m)\u001b[0m\u001b[0;34m\u001b[0m\u001b[0;34m\u001b[0m\u001b[0m\n\u001b[0m\u001b[1;32m    180\u001b[0m             \u001b[0mitem\u001b[0m \u001b[0;34m=\u001b[0m \u001b[0mself\u001b[0m\u001b[0;34m.\u001b[0m\u001b[0m_get\u001b[0m\u001b[0;34m(\u001b[0m\u001b[0;34m)\u001b[0m\u001b[0;34m\u001b[0m\u001b[0;34m\u001b[0m\u001b[0m\n\u001b[1;32m    181\u001b[0m             \u001b[0mself\u001b[0m\u001b[0;34m.\u001b[0m\u001b[0mnot_full\u001b[0m\u001b[0;34m.\u001b[0m\u001b[0mnotify\u001b[0m\u001b[0;34m(\u001b[0m\u001b[0;34m)\u001b[0m\u001b[0;34m\u001b[0m\u001b[0;34m\u001b[0m\u001b[0m\n",
            "\u001b[0;32m/usr/lib/python3.7/threading.py\u001b[0m in \u001b[0;36mwait\u001b[0;34m(self, timeout)\u001b[0m\n\u001b[1;32m    298\u001b[0m             \u001b[0;32melse\u001b[0m\u001b[0;34m:\u001b[0m\u001b[0;34m\u001b[0m\u001b[0;34m\u001b[0m\u001b[0m\n\u001b[1;32m    299\u001b[0m                 \u001b[0;32mif\u001b[0m \u001b[0mtimeout\u001b[0m \u001b[0;34m>\u001b[0m \u001b[0;36m0\u001b[0m\u001b[0;34m:\u001b[0m\u001b[0;34m\u001b[0m\u001b[0;34m\u001b[0m\u001b[0m\n\u001b[0;32m--> 300\u001b[0;31m                     \u001b[0mgotit\u001b[0m \u001b[0;34m=\u001b[0m \u001b[0mwaiter\u001b[0m\u001b[0;34m.\u001b[0m\u001b[0macquire\u001b[0m\u001b[0;34m(\u001b[0m\u001b[0;32mTrue\u001b[0m\u001b[0;34m,\u001b[0m \u001b[0mtimeout\u001b[0m\u001b[0;34m)\u001b[0m\u001b[0;34m\u001b[0m\u001b[0;34m\u001b[0m\u001b[0m\n\u001b[0m\u001b[1;32m    301\u001b[0m                 \u001b[0;32melse\u001b[0m\u001b[0;34m:\u001b[0m\u001b[0;34m\u001b[0m\u001b[0;34m\u001b[0m\u001b[0m\n\u001b[1;32m    302\u001b[0m                     \u001b[0mgotit\u001b[0m \u001b[0;34m=\u001b[0m \u001b[0mwaiter\u001b[0m\u001b[0;34m.\u001b[0m\u001b[0macquire\u001b[0m\u001b[0;34m(\u001b[0m\u001b[0;32mFalse\u001b[0m\u001b[0;34m)\u001b[0m\u001b[0;34m\u001b[0m\u001b[0;34m\u001b[0m\u001b[0m\n",
            "\u001b[0;31mKeyboardInterrupt\u001b[0m: "
          ]
        }
      ]
    },
    {
      "cell_type": "code",
      "metadata": {
        "id": "ZFM2JZil6z_o"
      },
      "source": [
        "train_embeddings_baseline, train_labels_baseline = extract_embeddings(train_loader, model)\n",
        "plot_embeddings(train_embeddings_baseline, train_labels_baseline)\n",
        "val_embeddings_baseline, val_labels_baseline = extract_embeddings(test_loader, model)\n",
        "plot_embeddings(val_embeddings_baseline, val_labels_baseline)"
      ],
      "execution_count": null,
      "outputs": []
    },
    {
      "cell_type": "code",
      "metadata": {
        "id": "k2HGiqug7Gw_"
      },
      "source": [
        "class SiameseDataset(Dataset):\n",
        "    \"\"\"\n",
        "    Train: For each sample creates randomly a positive or a negative pair\n",
        "    Test: Creates fixed pairs for testing\n",
        "    \"\"\"\n",
        "\n",
        "    def __init__(self, mnist_dataset):\n",
        "        self.mnist_dataset = mnist_dataset\n",
        "\n",
        "        self.train = self.mnist_dataset.train\n",
        "        self.transform = self.mnist_dataset.transform\n",
        "\n",
        "        if self.train:\n",
        "            self.train_labels = self.mnist_dataset.targets\n",
        "            self.train_data = self.mnist_dataset.data\n",
        "            self.labels_set = set(self.train_labels.numpy())\n",
        "            self.label_to_indices = {label: np.where(self.train_labels.numpy() == label)[0]\n",
        "                                     for label in self.labels_set}\n",
        "        else:\n",
        "            # generate fixed pairs for testing\n",
        "            self.test_labels = self.mnist_dataset.targets\n",
        "            self.test_data = self.mnist_dataset.data\n",
        "            self.labels_set = set(self.test_labels.numpy())\n",
        "            self.label_to_indices = {label: np.where(self.test_labels.numpy() == label)[0]\n",
        "                                     for label in self.labels_set}\n",
        "\n",
        "            random_state = np.random.RandomState(29)\n",
        "\n",
        "            positive_pairs = [[i,\n",
        "                               random_state.choice(self.label_to_indices[self.test_labels[i].item()]),\n",
        "                               1]\n",
        "                              for i in range(0, len(self.test_data), 2)]\n",
        "\n",
        "            negative_pairs = [[i,\n",
        "                               random_state.choice(self.label_to_indices[\n",
        "                                                       np.random.choice(\n",
        "                                                           list(self.labels_set - set([self.test_labels[i].item()]))\n",
        "                                                       )\n",
        "                                                   ]),\n",
        "                               0]\n",
        "                              for i in range(1, len(self.test_data), 2)]\n",
        "            self.test_pairs = positive_pairs + negative_pairs\n",
        "\n",
        "    def __getitem__(self, index):\n",
        "        if self.train:\n",
        "            target = np.random.randint(0, 2)\n",
        "            img1, label1 = self.train_data[index], self.train_labels[index].item()\n",
        "            if target == 1:\n",
        "                siamese_index = index\n",
        "                while siamese_index == index:\n",
        "                    siamese_index = np.random.choice(self.label_to_indices[label1])\n",
        "            else:\n",
        "                siamese_label = np.random.choice(list(self.labels_set - set([label1])))\n",
        "                siamese_index = np.random.choice(self.label_to_indices[siamese_label])\n",
        "            img2 = self.train_data[siamese_index]\n",
        "        else:\n",
        "            img1 = self.test_data[self.test_pairs[index][0]]\n",
        "            img2 = self.test_data[self.test_pairs[index][1]]\n",
        "            target = self.test_pairs[index][2]\n",
        "\n",
        "        img1 = Image.fromarray(img1.numpy(), mode='L')\n",
        "        img2 = Image.fromarray(img2.numpy(), mode='L')\n",
        "        if self.transform is not None:\n",
        "            img1 = self.transform(img1)\n",
        "            img2 = self.transform(img2)\n",
        "        return (img1, img2), target\n",
        "\n",
        "        \n",
        "    def __len__(self):\n",
        "        return len(self.mnist_dataset)"
      ],
      "execution_count": 11,
      "outputs": []
    },
    {
      "cell_type": "code",
      "metadata": {
        "id": "TGCIpzFt7Kav"
      },
      "source": [
        "class ContrastiveLoss(nn.Module):\n",
        "    \"\"\"\n",
        "    Contrastive loss\n",
        "    Takes embeddings of two samples and a target label == 1 if samples are from the same class and label == 0 otherwise\n",
        "    \"\"\"\n",
        "\n",
        "    def __init__(self, margin):\n",
        "        super(ContrastiveLoss, self).__init__()\n",
        "        self.margin = margin\n",
        "        self.eps = 1e-9\n",
        "\n",
        "    def forward(self, output1, output2, target, size_average=True):\n",
        "        distances = (output2 - output1).pow(2).sum(1)  # squared distances\n",
        "        # losses = 0.5 * (target.float() * distances + (1 - target).float() * max(0, self.margin - (distances + self.eps).sqrt()).pow(2)) equivalent to\n",
        "        losses = 0.5 * (target.float() * distances + (1 - target).float() * F.relu(self.margin - (distances + self.eps).sqrt()).pow(2))\n",
        "        return losses.mean() if size_average else losses.sum()"
      ],
      "execution_count": 12,
      "outputs": []
    },
    {
      "cell_type": "code",
      "metadata": {
        "id": "z2vf1gQU7xmg"
      },
      "source": [
        "class SiameseNet(nn.Module):\n",
        "    def __init__(self, embedding_net):\n",
        "        super(SiameseNet, self).__init__()\n",
        "        self.embedding_net = embedding_net\n",
        "\n",
        "    def forward(self, x1, x2):\n",
        "        output1 = self.embedding_net(x1)\n",
        "        output2 = self.embedding_net(x2)\n",
        "        return output1, output2\n",
        "\n",
        "    def get_embedding(self, x):\n",
        "        return self.embedding_net(x)"
      ],
      "execution_count": 13,
      "outputs": []
    },
    {
      "cell_type": "code",
      "metadata": {
        "id": "iSS97emI65V3"
      },
      "source": [
        "siamese_train_dataset = SiameseDataset(train_dataset) # Returns pairs of images and target same/different\n",
        "siamese_test_dataset = SiameseDataset(test_dataset)\n",
        "\n",
        "batch_size = 128\n",
        "kwargs = {'num_workers': 2, 'pin_memory': True}\n",
        "siamese_train_loader = torch.utils.data.DataLoader(siamese_train_dataset, batch_size=batch_size, shuffle=True, **kwargs)\n",
        "siamese_test_loader = torch.utils.data.DataLoader(siamese_test_dataset, batch_size=batch_size, shuffle=False, **kwargs)\n",
        "\n",
        "margin = 1.\n",
        "embedding_net = EmbeddingNet()\n",
        "model = SiameseNet(embedding_net)\n",
        "model.to(device)\n",
        "loss_fn = ContrastiveLoss(margin)\n",
        "lr = 1e-3\n",
        "optimizer = optim.Adam(model.parameters(), lr=lr, weight_decay=1e-4)\n",
        "scheduler = lr_scheduler.StepLR(optimizer, 8, gamma=0.1, last_epoch=-1)\n",
        "n_epochs = 10"
      ],
      "execution_count": 14,
      "outputs": []
    },
    {
      "cell_type": "code",
      "metadata": {
        "colab": {
          "base_uri": "https://localhost:8080/",
          "height": 476
        },
        "id": "Z5jTUufy7y2H",
        "outputId": "9934c49f-936c-4a06-bb40-65daef40c3dc"
      },
      "source": [
        "for epoch in range(n_epochs):\n",
        "\n",
        "        # Train stage\n",
        "        train_loss, acc = train_epoch(siamese_train_loader, model, loss_fn, optimizer)\n",
        "        scheduler.step()\n",
        "\n",
        "        message = 'Epoch: {}/{}. Train set: Average loss: {:.4f}'.format(epoch + 1, n_epochs, train_loss)\n",
        "\n",
        "        val_loss, acc = test_epoch(siamese_test_loader, model, loss_fn)\n",
        "        val_loss /= len(siamese_test_loader)\n",
        "\n",
        "        message += '\\nEpoch: {}/{}. Validation set: Average loss: {:.4f}'.format(epoch + 1, n_epochs,\n",
        "                                                                                 val_loss)\n",
        "\n",
        "        print(message)"
      ],
      "execution_count": null,
      "outputs": [
        {
          "output_type": "stream",
          "text": [
            "Epoch: 1/10. Train set: Average loss: 0.0496\n",
            "Epoch: 1/10. Validation set: Average loss: 0.0421\n",
            "Epoch: 2/10. Train set: Average loss: 0.0378\n",
            "Epoch: 2/10. Validation set: Average loss: 0.0392\n",
            "Epoch: 3/10. Train set: Average loss: 0.0335\n",
            "Epoch: 3/10. Validation set: Average loss: 0.0354\n"
          ],
          "name": "stdout"
        },
        {
          "output_type": "error",
          "ename": "KeyboardInterrupt",
          "evalue": "ignored",
          "traceback": [
            "\u001b[0;31m---------------------------------------------------------------------------\u001b[0m",
            "\u001b[0;31mKeyboardInterrupt\u001b[0m                         Traceback (most recent call last)",
            "\u001b[0;32m<ipython-input-25-761eccf6cb6a>\u001b[0m in \u001b[0;36m<module>\u001b[0;34m()\u001b[0m\n\u001b[1;32m      7\u001b[0m         \u001b[0mmessage\u001b[0m \u001b[0;34m=\u001b[0m \u001b[0;34m'Epoch: {}/{}. Train set: Average loss: {:.4f}'\u001b[0m\u001b[0;34m.\u001b[0m\u001b[0mformat\u001b[0m\u001b[0;34m(\u001b[0m\u001b[0mepoch\u001b[0m \u001b[0;34m+\u001b[0m \u001b[0;36m1\u001b[0m\u001b[0;34m,\u001b[0m \u001b[0mn_epochs\u001b[0m\u001b[0;34m,\u001b[0m \u001b[0mtrain_loss\u001b[0m\u001b[0;34m)\u001b[0m\u001b[0;34m\u001b[0m\u001b[0;34m\u001b[0m\u001b[0m\n\u001b[1;32m      8\u001b[0m \u001b[0;34m\u001b[0m\u001b[0m\n\u001b[0;32m----> 9\u001b[0;31m         \u001b[0mval_loss\u001b[0m\u001b[0;34m,\u001b[0m \u001b[0macc\u001b[0m \u001b[0;34m=\u001b[0m \u001b[0mtest_epoch\u001b[0m\u001b[0;34m(\u001b[0m\u001b[0msiamese_test_loader\u001b[0m\u001b[0;34m,\u001b[0m \u001b[0mmodel\u001b[0m\u001b[0;34m,\u001b[0m \u001b[0mloss_fn\u001b[0m\u001b[0;34m)\u001b[0m\u001b[0;34m\u001b[0m\u001b[0;34m\u001b[0m\u001b[0m\n\u001b[0m\u001b[1;32m     10\u001b[0m         \u001b[0mval_loss\u001b[0m \u001b[0;34m/=\u001b[0m \u001b[0mlen\u001b[0m\u001b[0;34m(\u001b[0m\u001b[0msiamese_test_loader\u001b[0m\u001b[0;34m)\u001b[0m\u001b[0;34m\u001b[0m\u001b[0;34m\u001b[0m\u001b[0m\n\u001b[1;32m     11\u001b[0m \u001b[0;34m\u001b[0m\u001b[0m\n",
            "\u001b[0;32m/usr/local/lib/python3.7/dist-packages/torch/autograd/grad_mode.py\u001b[0m in \u001b[0;36mdecorate_context\u001b[0;34m(*args, **kwargs)\u001b[0m\n\u001b[1;32m     25\u001b[0m         \u001b[0;32mdef\u001b[0m \u001b[0mdecorate_context\u001b[0m\u001b[0;34m(\u001b[0m\u001b[0;34m*\u001b[0m\u001b[0margs\u001b[0m\u001b[0;34m,\u001b[0m \u001b[0;34m**\u001b[0m\u001b[0mkwargs\u001b[0m\u001b[0;34m)\u001b[0m\u001b[0;34m:\u001b[0m\u001b[0;34m\u001b[0m\u001b[0;34m\u001b[0m\u001b[0m\n\u001b[1;32m     26\u001b[0m             \u001b[0;32mwith\u001b[0m \u001b[0mself\u001b[0m\u001b[0;34m.\u001b[0m\u001b[0m__class__\u001b[0m\u001b[0;34m(\u001b[0m\u001b[0;34m)\u001b[0m\u001b[0;34m:\u001b[0m\u001b[0;34m\u001b[0m\u001b[0;34m\u001b[0m\u001b[0m\n\u001b[0;32m---> 27\u001b[0;31m                 \u001b[0;32mreturn\u001b[0m \u001b[0mfunc\u001b[0m\u001b[0;34m(\u001b[0m\u001b[0;34m*\u001b[0m\u001b[0margs\u001b[0m\u001b[0;34m,\u001b[0m \u001b[0;34m**\u001b[0m\u001b[0mkwargs\u001b[0m\u001b[0;34m)\u001b[0m\u001b[0;34m\u001b[0m\u001b[0;34m\u001b[0m\u001b[0m\n\u001b[0m\u001b[1;32m     28\u001b[0m         \u001b[0;32mreturn\u001b[0m \u001b[0mcast\u001b[0m\u001b[0;34m(\u001b[0m\u001b[0mF\u001b[0m\u001b[0;34m,\u001b[0m \u001b[0mdecorate_context\u001b[0m\u001b[0;34m)\u001b[0m\u001b[0;34m\u001b[0m\u001b[0;34m\u001b[0m\u001b[0m\n\u001b[1;32m     29\u001b[0m \u001b[0;34m\u001b[0m\u001b[0m\n",
            "\u001b[0;32m<ipython-input-17-c4d0f110db09>\u001b[0m in \u001b[0;36mtest_epoch\u001b[0;34m(val_loader, model, loss_fn)\u001b[0m\n\u001b[1;32m     50\u001b[0m     \u001b[0mcorrect\u001b[0m \u001b[0;34m=\u001b[0m \u001b[0;36m0\u001b[0m\u001b[0;34m\u001b[0m\u001b[0;34m\u001b[0m\u001b[0m\n\u001b[1;32m     51\u001b[0m \u001b[0;34m\u001b[0m\u001b[0m\n\u001b[0;32m---> 52\u001b[0;31m     \u001b[0;32mfor\u001b[0m \u001b[0mbatch_idx\u001b[0m\u001b[0;34m,\u001b[0m \u001b[0;34m(\u001b[0m\u001b[0mdata\u001b[0m\u001b[0;34m,\u001b[0m \u001b[0mtarget\u001b[0m\u001b[0;34m)\u001b[0m \u001b[0;32min\u001b[0m \u001b[0menumerate\u001b[0m\u001b[0;34m(\u001b[0m\u001b[0mval_loader\u001b[0m\u001b[0;34m)\u001b[0m\u001b[0;34m:\u001b[0m\u001b[0;34m\u001b[0m\u001b[0;34m\u001b[0m\u001b[0m\n\u001b[0m\u001b[1;32m     53\u001b[0m         \u001b[0mtarget\u001b[0m \u001b[0;34m=\u001b[0m \u001b[0mtarget\u001b[0m \u001b[0;32mif\u001b[0m \u001b[0mlen\u001b[0m\u001b[0;34m(\u001b[0m\u001b[0mtarget\u001b[0m\u001b[0;34m)\u001b[0m \u001b[0;34m>\u001b[0m \u001b[0;36m0\u001b[0m \u001b[0;32melse\u001b[0m \u001b[0;32mNone\u001b[0m\u001b[0;34m\u001b[0m\u001b[0;34m\u001b[0m\u001b[0m\n\u001b[1;32m     54\u001b[0m         \u001b[0;32mif\u001b[0m \u001b[0;32mnot\u001b[0m \u001b[0mtype\u001b[0m\u001b[0;34m(\u001b[0m\u001b[0mdata\u001b[0m\u001b[0;34m)\u001b[0m \u001b[0;32min\u001b[0m \u001b[0;34m(\u001b[0m\u001b[0mtuple\u001b[0m\u001b[0;34m,\u001b[0m \u001b[0mlist\u001b[0m\u001b[0;34m)\u001b[0m\u001b[0;34m:\u001b[0m\u001b[0;34m\u001b[0m\u001b[0;34m\u001b[0m\u001b[0m\n",
            "\u001b[0;32m/usr/local/lib/python3.7/dist-packages/torch/utils/data/dataloader.py\u001b[0m in \u001b[0;36m__next__\u001b[0;34m(self)\u001b[0m\n\u001b[1;32m    515\u001b[0m             \u001b[0;32mif\u001b[0m \u001b[0mself\u001b[0m\u001b[0;34m.\u001b[0m\u001b[0m_sampler_iter\u001b[0m \u001b[0;32mis\u001b[0m \u001b[0;32mNone\u001b[0m\u001b[0;34m:\u001b[0m\u001b[0;34m\u001b[0m\u001b[0;34m\u001b[0m\u001b[0m\n\u001b[1;32m    516\u001b[0m                 \u001b[0mself\u001b[0m\u001b[0;34m.\u001b[0m\u001b[0m_reset\u001b[0m\u001b[0;34m(\u001b[0m\u001b[0;34m)\u001b[0m\u001b[0;34m\u001b[0m\u001b[0;34m\u001b[0m\u001b[0m\n\u001b[0;32m--> 517\u001b[0;31m             \u001b[0mdata\u001b[0m \u001b[0;34m=\u001b[0m \u001b[0mself\u001b[0m\u001b[0;34m.\u001b[0m\u001b[0m_next_data\u001b[0m\u001b[0;34m(\u001b[0m\u001b[0;34m)\u001b[0m\u001b[0;34m\u001b[0m\u001b[0;34m\u001b[0m\u001b[0m\n\u001b[0m\u001b[1;32m    518\u001b[0m             \u001b[0mself\u001b[0m\u001b[0;34m.\u001b[0m\u001b[0m_num_yielded\u001b[0m \u001b[0;34m+=\u001b[0m \u001b[0;36m1\u001b[0m\u001b[0;34m\u001b[0m\u001b[0;34m\u001b[0m\u001b[0m\n\u001b[1;32m    519\u001b[0m             \u001b[0;32mif\u001b[0m \u001b[0mself\u001b[0m\u001b[0;34m.\u001b[0m\u001b[0m_dataset_kind\u001b[0m \u001b[0;34m==\u001b[0m \u001b[0m_DatasetKind\u001b[0m\u001b[0;34m.\u001b[0m\u001b[0mIterable\u001b[0m \u001b[0;32mand\u001b[0m\u001b[0;31m \u001b[0m\u001b[0;31m\\\u001b[0m\u001b[0;34m\u001b[0m\u001b[0;34m\u001b[0m\u001b[0m\n",
            "\u001b[0;32m/usr/local/lib/python3.7/dist-packages/torch/utils/data/dataloader.py\u001b[0m in \u001b[0;36m_next_data\u001b[0;34m(self)\u001b[0m\n\u001b[1;32m   1180\u001b[0m \u001b[0;34m\u001b[0m\u001b[0m\n\u001b[1;32m   1181\u001b[0m             \u001b[0;32massert\u001b[0m \u001b[0;32mnot\u001b[0m \u001b[0mself\u001b[0m\u001b[0;34m.\u001b[0m\u001b[0m_shutdown\u001b[0m \u001b[0;32mand\u001b[0m \u001b[0mself\u001b[0m\u001b[0;34m.\u001b[0m\u001b[0m_tasks_outstanding\u001b[0m \u001b[0;34m>\u001b[0m \u001b[0;36m0\u001b[0m\u001b[0;34m\u001b[0m\u001b[0;34m\u001b[0m\u001b[0m\n\u001b[0;32m-> 1182\u001b[0;31m             \u001b[0midx\u001b[0m\u001b[0;34m,\u001b[0m \u001b[0mdata\u001b[0m \u001b[0;34m=\u001b[0m \u001b[0mself\u001b[0m\u001b[0;34m.\u001b[0m\u001b[0m_get_data\u001b[0m\u001b[0;34m(\u001b[0m\u001b[0;34m)\u001b[0m\u001b[0;34m\u001b[0m\u001b[0;34m\u001b[0m\u001b[0m\n\u001b[0m\u001b[1;32m   1183\u001b[0m             \u001b[0mself\u001b[0m\u001b[0;34m.\u001b[0m\u001b[0m_tasks_outstanding\u001b[0m \u001b[0;34m-=\u001b[0m \u001b[0;36m1\u001b[0m\u001b[0;34m\u001b[0m\u001b[0;34m\u001b[0m\u001b[0m\n\u001b[1;32m   1184\u001b[0m             \u001b[0;32mif\u001b[0m \u001b[0mself\u001b[0m\u001b[0;34m.\u001b[0m\u001b[0m_dataset_kind\u001b[0m \u001b[0;34m==\u001b[0m \u001b[0m_DatasetKind\u001b[0m\u001b[0;34m.\u001b[0m\u001b[0mIterable\u001b[0m\u001b[0;34m:\u001b[0m\u001b[0;34m\u001b[0m\u001b[0;34m\u001b[0m\u001b[0m\n",
            "\u001b[0;32m/usr/local/lib/python3.7/dist-packages/torch/utils/data/dataloader.py\u001b[0m in \u001b[0;36m_get_data\u001b[0;34m(self)\u001b[0m\n\u001b[1;32m   1136\u001b[0m         \u001b[0;32melif\u001b[0m \u001b[0mself\u001b[0m\u001b[0;34m.\u001b[0m\u001b[0m_pin_memory\u001b[0m\u001b[0;34m:\u001b[0m\u001b[0;34m\u001b[0m\u001b[0;34m\u001b[0m\u001b[0m\n\u001b[1;32m   1137\u001b[0m             \u001b[0;32mwhile\u001b[0m \u001b[0mself\u001b[0m\u001b[0;34m.\u001b[0m\u001b[0m_pin_memory_thread\u001b[0m\u001b[0;34m.\u001b[0m\u001b[0mis_alive\u001b[0m\u001b[0;34m(\u001b[0m\u001b[0;34m)\u001b[0m\u001b[0;34m:\u001b[0m\u001b[0;34m\u001b[0m\u001b[0;34m\u001b[0m\u001b[0m\n\u001b[0;32m-> 1138\u001b[0;31m                 \u001b[0msuccess\u001b[0m\u001b[0;34m,\u001b[0m \u001b[0mdata\u001b[0m \u001b[0;34m=\u001b[0m \u001b[0mself\u001b[0m\u001b[0;34m.\u001b[0m\u001b[0m_try_get_data\u001b[0m\u001b[0;34m(\u001b[0m\u001b[0;34m)\u001b[0m\u001b[0;34m\u001b[0m\u001b[0;34m\u001b[0m\u001b[0m\n\u001b[0m\u001b[1;32m   1139\u001b[0m                 \u001b[0;32mif\u001b[0m \u001b[0msuccess\u001b[0m\u001b[0;34m:\u001b[0m\u001b[0;34m\u001b[0m\u001b[0;34m\u001b[0m\u001b[0m\n\u001b[1;32m   1140\u001b[0m                     \u001b[0;32mreturn\u001b[0m \u001b[0mdata\u001b[0m\u001b[0;34m\u001b[0m\u001b[0;34m\u001b[0m\u001b[0m\n",
            "\u001b[0;32m/usr/local/lib/python3.7/dist-packages/torch/utils/data/dataloader.py\u001b[0m in \u001b[0;36m_try_get_data\u001b[0;34m(self, timeout)\u001b[0m\n\u001b[1;32m    984\u001b[0m         \u001b[0;31m#   (bool: whether successfully get data, any: data if successful else None)\u001b[0m\u001b[0;34m\u001b[0m\u001b[0;34m\u001b[0m\u001b[0;34m\u001b[0m\u001b[0m\n\u001b[1;32m    985\u001b[0m         \u001b[0;32mtry\u001b[0m\u001b[0;34m:\u001b[0m\u001b[0;34m\u001b[0m\u001b[0;34m\u001b[0m\u001b[0m\n\u001b[0;32m--> 986\u001b[0;31m             \u001b[0mdata\u001b[0m \u001b[0;34m=\u001b[0m \u001b[0mself\u001b[0m\u001b[0;34m.\u001b[0m\u001b[0m_data_queue\u001b[0m\u001b[0;34m.\u001b[0m\u001b[0mget\u001b[0m\u001b[0;34m(\u001b[0m\u001b[0mtimeout\u001b[0m\u001b[0;34m=\u001b[0m\u001b[0mtimeout\u001b[0m\u001b[0;34m)\u001b[0m\u001b[0;34m\u001b[0m\u001b[0;34m\u001b[0m\u001b[0m\n\u001b[0m\u001b[1;32m    987\u001b[0m             \u001b[0;32mreturn\u001b[0m \u001b[0;34m(\u001b[0m\u001b[0;32mTrue\u001b[0m\u001b[0;34m,\u001b[0m \u001b[0mdata\u001b[0m\u001b[0;34m)\u001b[0m\u001b[0;34m\u001b[0m\u001b[0;34m\u001b[0m\u001b[0m\n\u001b[1;32m    988\u001b[0m         \u001b[0;32mexcept\u001b[0m \u001b[0mException\u001b[0m \u001b[0;32mas\u001b[0m \u001b[0me\u001b[0m\u001b[0;34m:\u001b[0m\u001b[0;34m\u001b[0m\u001b[0;34m\u001b[0m\u001b[0m\n",
            "\u001b[0;32m/usr/lib/python3.7/queue.py\u001b[0m in \u001b[0;36mget\u001b[0;34m(self, block, timeout)\u001b[0m\n\u001b[1;32m    177\u001b[0m                     \u001b[0;32mif\u001b[0m \u001b[0mremaining\u001b[0m \u001b[0;34m<=\u001b[0m \u001b[0;36m0.0\u001b[0m\u001b[0;34m:\u001b[0m\u001b[0;34m\u001b[0m\u001b[0;34m\u001b[0m\u001b[0m\n\u001b[1;32m    178\u001b[0m                         \u001b[0;32mraise\u001b[0m \u001b[0mEmpty\u001b[0m\u001b[0;34m\u001b[0m\u001b[0;34m\u001b[0m\u001b[0m\n\u001b[0;32m--> 179\u001b[0;31m                     \u001b[0mself\u001b[0m\u001b[0;34m.\u001b[0m\u001b[0mnot_empty\u001b[0m\u001b[0;34m.\u001b[0m\u001b[0mwait\u001b[0m\u001b[0;34m(\u001b[0m\u001b[0mremaining\u001b[0m\u001b[0;34m)\u001b[0m\u001b[0;34m\u001b[0m\u001b[0;34m\u001b[0m\u001b[0m\n\u001b[0m\u001b[1;32m    180\u001b[0m             \u001b[0mitem\u001b[0m \u001b[0;34m=\u001b[0m \u001b[0mself\u001b[0m\u001b[0;34m.\u001b[0m\u001b[0m_get\u001b[0m\u001b[0;34m(\u001b[0m\u001b[0;34m)\u001b[0m\u001b[0;34m\u001b[0m\u001b[0;34m\u001b[0m\u001b[0m\n\u001b[1;32m    181\u001b[0m             \u001b[0mself\u001b[0m\u001b[0;34m.\u001b[0m\u001b[0mnot_full\u001b[0m\u001b[0;34m.\u001b[0m\u001b[0mnotify\u001b[0m\u001b[0;34m(\u001b[0m\u001b[0;34m)\u001b[0m\u001b[0;34m\u001b[0m\u001b[0;34m\u001b[0m\u001b[0m\n",
            "\u001b[0;32m/usr/lib/python3.7/threading.py\u001b[0m in \u001b[0;36mwait\u001b[0;34m(self, timeout)\u001b[0m\n\u001b[1;32m    298\u001b[0m             \u001b[0;32melse\u001b[0m\u001b[0;34m:\u001b[0m\u001b[0;34m\u001b[0m\u001b[0;34m\u001b[0m\u001b[0m\n\u001b[1;32m    299\u001b[0m                 \u001b[0;32mif\u001b[0m \u001b[0mtimeout\u001b[0m \u001b[0;34m>\u001b[0m \u001b[0;36m0\u001b[0m\u001b[0;34m:\u001b[0m\u001b[0;34m\u001b[0m\u001b[0;34m\u001b[0m\u001b[0m\n\u001b[0;32m--> 300\u001b[0;31m                     \u001b[0mgotit\u001b[0m \u001b[0;34m=\u001b[0m \u001b[0mwaiter\u001b[0m\u001b[0;34m.\u001b[0m\u001b[0macquire\u001b[0m\u001b[0;34m(\u001b[0m\u001b[0;32mTrue\u001b[0m\u001b[0;34m,\u001b[0m \u001b[0mtimeout\u001b[0m\u001b[0;34m)\u001b[0m\u001b[0;34m\u001b[0m\u001b[0;34m\u001b[0m\u001b[0m\n\u001b[0m\u001b[1;32m    301\u001b[0m                 \u001b[0;32melse\u001b[0m\u001b[0;34m:\u001b[0m\u001b[0;34m\u001b[0m\u001b[0;34m\u001b[0m\u001b[0m\n\u001b[1;32m    302\u001b[0m                     \u001b[0mgotit\u001b[0m \u001b[0;34m=\u001b[0m \u001b[0mwaiter\u001b[0m\u001b[0;34m.\u001b[0m\u001b[0macquire\u001b[0m\u001b[0;34m(\u001b[0m\u001b[0;32mFalse\u001b[0m\u001b[0;34m)\u001b[0m\u001b[0;34m\u001b[0m\u001b[0;34m\u001b[0m\u001b[0m\n",
            "\u001b[0;31mKeyboardInterrupt\u001b[0m: "
          ]
        }
      ]
    },
    {
      "cell_type": "code",
      "metadata": {
        "id": "d9IZxCO7KQQ0"
      },
      "source": [
        "train_embeddings_baseline, train_labels_baseline = extract_embeddings(train_loader, model)\n",
        "plot_embeddings(train_embeddings_baseline, train_labels_baseline)\n",
        "val_embeddings_baseline, val_labels_baseline = extract_embeddings(test_loader, model)\n",
        "plot_embeddings(val_embeddings_baseline, val_labels_baseline)"
      ],
      "execution_count": null,
      "outputs": []
    },
    {
      "cell_type": "markdown",
      "metadata": {
        "id": "G1OFXKVwO4_v"
      },
      "source": [
        "# Triplet Loss\n",
        "\n",
        "\n",
        "![image.png](data:image/png;base64,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)\n",
        "\n",
        "There are couple of problems with siamese and triplet networks.\n",
        "\n",
        "- The number of possible pairs/triplets grows quadratically/cubically with the number of examples. It's infeasible to process them all\n",
        "- We generate pairs/triplets randomly. As the training continues, more and more pairs/triplets are easy to deal with (their loss value is very small or even 0), preventing the network from training. We need to provide the network with hard examples.\n",
        "- Each image that is fed to the network is used only for computation of contrastive/triplet loss for only one pair/triplet. The computation is somewhat wasted; once the embedding is computed, it could be reused for many pairs/triplets.\n",
        "\n",
        "To deal with that efficiently, we'll feed a network with standard mini-batches as we did for classification. The loss function will be responsible for selection of hard pairs and triplets within mini-batch. In these case, if we feed the network with 16 images per 10 classes, we can process up to $159*160/2 = 12720$ pairs and $10*16*15/2*(9*16) = 172800$ triplets, compared to 80 pairs and 53 triplets in previous implementation."
      ]
    },
    {
      "cell_type": "markdown",
      "metadata": {
        "id": "xZdPaaAtO6Jm"
      },
      "source": [
        "# Homework\n",
        "\n",
        "A) Train FashionMNIST using a semi-hard Triplet Mining strategy, visualize the embeddings and comment what you observe. What are we trying to optimize? Does the criteria we are trying to optimize matches the results observed in the visualization?\n",
        "\n",
        "Hints: You do not have to implement any Miner or Distance or anything of the sort. [The Pytorch Metric Learning Library](https://github.com/KevinMusgrave/pytorch-metric-learning) (installed in the cell below) implements everything we need.\n",
        "\n",
        "Check the imports in the cell below for clues on what modules to use\n",
        "\n",
        "Check its [docs](https://kevinmusgrave.github.io/pytorch-metric-learning/) so that you get an idea of how to use it. The general template usage is something like this:\n",
        "\n",
        "\n",
        "```\n",
        "from pytorch_metric_learning import miners, losses\n",
        "miner = miners.MultiSimilarityMiner()\n",
        "loss_func = losses.TripletMarginLoss()\n",
        "\n",
        "# your training loop\n",
        "for i, (data, labels) in enumerate(dataloader):\n",
        "\toptimizer.zero_grad()\n",
        "\tembeddings = model(data)\n",
        "\thard_pairs = miner(embeddings, labels)\n",
        "\tloss = loss_func(embeddings, labels, hard_pairs)\n",
        "\tloss.backward()\n",
        "\toptimizer.step()\n",
        "```\n",
        "\n",
        "B) Explain the difference between semi-hard, easy and hard triplets. Try training with all of the type of triplets mentioned above and comment on the effect they have on training, using loss curves and other evidence you find necessary.\n",
        "\n",
        "Solution here: https://kevinmusgrave.github.io/pytorch-metric-learning/miners/#tripletmarginminer\n",
        "\n",
        "C) Find a way to **quantitatively** measure how good the embeddings are. \n",
        "\n",
        "D) Train a new (preferably more powerful) network with a 128-dimensional embedding, visualize the embedding using T-SNE. The T-SNE library is installed in the cell below check the [github repo](https://github.com/DmitryUlyanov/Multicore-TSNE) for info on how to use it. Report accuracies for both networks (the one with 2-dimensional embeddings and this one) and compare the visualizations of both embeddings.\n",
        "\n",
        "Explanation of T-SNE [here](https://distill.pub/2016/misread-tsne/)\n",
        "\n",
        "**Important T-SNE is rather slow so dont visualize the embeddings for every sample. Randomly select a few**\n",
        "\n"
      ]
    },
    {
      "cell_type": "code",
      "metadata": {
        "id": "zE_HJ__AFPAl",
        "colab": {
          "base_uri": "https://localhost:8080/"
        },
        "outputId": "5b9de4b5-a144-457a-b9af-31e8c5971765"
      },
      "source": [
        "!pip install pytorch-metric-learning faiss-gpu\n",
        "from pytorch_metric_learning import losses, miners, distances, testers\n",
        "from pytorch_metric_learning.utils.accuracy_calculator import AccuracyCalculator\n",
        "\n",
        "\n",
        "# THIS FUNCTION MIGHT BE USEFUL FOR C)\n",
        "def get_all_embeddings(dataset, model):\n",
        "    tester = testers.BaseTester(dataloader_num_workers=2)\n",
        "    return tester.get_all_embeddings(dataset, model)"
      ],
      "execution_count": 7,
      "outputs": [
        {
          "output_type": "stream",
          "text": [
            "Collecting pytorch-metric-learning\n",
            "\u001b[?25l  Downloading https://files.pythonhosted.org/packages/8e/1b/d85136231f8d14fdadcd0a13359bbef02b565f0a0c954297f38c4997c61b/pytorch_metric_learning-0.9.99-py3-none-any.whl (105kB)\n",
            "\u001b[K     |████████████████████████████████| 112kB 4.1MB/s \n",
            "\u001b[?25hCollecting faiss-gpu\n",
            "\u001b[?25l  Downloading https://files.pythonhosted.org/packages/5d/36/383911b8edf8c29cb7e9e8aee4e6b69b0f36c52237e3a06ce64a9551ef22/faiss_gpu-1.7.0-cp37-cp37m-manylinux2014_x86_64.whl (89.4MB)\n",
            "\u001b[K     |████████████████████████████████| 89.4MB 34kB/s \n",
            "\u001b[?25hRequirement already satisfied: torchvision in /usr/local/lib/python3.7/dist-packages (from pytorch-metric-learning) (0.9.1+cu101)\n",
            "Requirement already satisfied: tqdm in /usr/local/lib/python3.7/dist-packages (from pytorch-metric-learning) (4.41.1)\n",
            "Requirement already satisfied: torch>=1.6.0 in /usr/local/lib/python3.7/dist-packages (from pytorch-metric-learning) (1.8.1+cu101)\n",
            "Requirement already satisfied: scikit-learn in /usr/local/lib/python3.7/dist-packages (from pytorch-metric-learning) (0.22.2.post1)\n",
            "Requirement already satisfied: numpy in /usr/local/lib/python3.7/dist-packages (from pytorch-metric-learning) (1.19.5)\n",
            "Requirement already satisfied: pillow>=4.1.1 in /usr/local/lib/python3.7/dist-packages (from torchvision->pytorch-metric-learning) (7.1.2)\n",
            "Requirement already satisfied: typing-extensions in /usr/local/lib/python3.7/dist-packages (from torch>=1.6.0->pytorch-metric-learning) (3.7.4.3)\n",
            "Requirement already satisfied: scipy>=0.17.0 in /usr/local/lib/python3.7/dist-packages (from scikit-learn->pytorch-metric-learning) (1.4.1)\n",
            "Requirement already satisfied: joblib>=0.11 in /usr/local/lib/python3.7/dist-packages (from scikit-learn->pytorch-metric-learning) (1.0.1)\n",
            "Installing collected packages: pytorch-metric-learning, faiss-gpu\n",
            "Successfully installed faiss-gpu-1.7.0 pytorch-metric-learning-0.9.99\n"
          ],
          "name": "stdout"
        }
      ]
    },
    {
      "cell_type": "code",
      "metadata": {
        "id": "I8GY_hBDUK5r"
      },
      "source": [
        "!pip install MulticoreTSNE\n",
        "from MulticoreTSNE import MulticoreTSNE as TSNE\n",
        "tsne = TSNE(n_components=2, verbose=1, n_jobs=2)"
      ],
      "execution_count": null,
      "outputs": []
    },
    {
      "cell_type": "markdown",
      "metadata": {
        "id": "3qxH4mXvJxAd"
      },
      "source": [
        "B) Semi-Hard: the negative is further from the anchor than the positive\n",
        "   Hard: the negative is closer to the anchor than the positive\n",
        "   Easy: triplets that do not violate the margin\n",
        "\n",
        "   The miner is tasked with building the triplets for each mini-batch"
      ]
    },
    {
      "cell_type": "code",
      "metadata": {
        "colab": {
          "base_uri": "https://localhost:8080/",
          "height": 1000
        },
        "id": "kbpME_p90uun",
        "outputId": "cf5c584d-b212-4fe9-8ae2-e27ce8eae175"
      },
      "source": [
        "# A)\n",
        "# B) \n",
        "# C)\n",
        "\n",
        "class Net(nn.Module):\n",
        "    def __init__(self, embedding_net):\n",
        "        super(Net, self).__init__()\n",
        "        self.embedding_net = embedding_net\n",
        "\n",
        "    def forward(self, x):\n",
        "        output = self.embedding_net(x)\n",
        "        return output\n",
        "\n",
        "    def get_embedding(self, x):\n",
        "        return self.embedding_net(x)\n",
        "\n",
        "\n",
        "\n",
        "        \n",
        "def train(model, loss_func, mining_func, train_loader, optimizer, epoch):\n",
        "    model.train()\n",
        "    total_loss = 0\n",
        "    for batch_idx, (data, labels) in enumerate(train_loader):\n",
        "        data, labels = data.to(device), labels.to(device)\n",
        "        optimizer.zero_grad()\n",
        "        embeddings = model(data)\n",
        "        indices_tuple = mining_func(embeddings, labels)\n",
        "        loss = loss_func(embeddings, labels, indices_tuple)\n",
        "        total_loss += loss.item()\n",
        "        loss.backward()\n",
        "\n",
        "        optimizer.step()\n",
        "        if batch_idx % 20 == 0:\n",
        "            print(\"Epoch {} Iteration {}: Loss = {}, Number of mined triplets = {}\".format(epoch, batch_idx, loss, mining_func.num_triplets))\n",
        "\n",
        "    return total_loss / (batch_idx + 1)\n",
        "\n",
        "\n",
        "def test(train_set, test_set, model, accuracy_calculator):\n",
        "    model.eval()\n",
        "    train_embeddings, train_labels = get_all_embeddings(train_set, model)\n",
        "    test_embeddings, test_labels = get_all_embeddings(test_set, model)\n",
        "\n",
        "    print(\"Computing accuracy\")\n",
        "    accuracies = accuracy_calculator.get_accuracy(test_embeddings, \n",
        "                                                train_embeddings,\n",
        "                                                test_labels,\n",
        "                                                train_labels,\n",
        "                                                False)\n",
        "    \n",
        "    print(\"Test set accuracy (Precision@1) = {}\".format(accuracies[\"precision_at_1\"]))\n",
        "\n",
        "    \n",
        "distance = distances.CosineSimilarity()\n",
        "mining_func = miners.TripletMarginMiner(margin = 0.2, distance=distance, type_of_triplets=\"easy\")\n",
        "accuracy_calculator = AccuracyCalculator(include=(\"precision_at_1\",), k = 1)\n",
        "\n",
        "mean, std = 0.28604059698879553, 0.35302424451492237\n",
        "\n",
        "\n",
        "transform = transforms.Compose([\n",
        "        transforms.ToTensor(),\n",
        "        transforms.Normalize((mean,), (std,))\n",
        "    ])\n",
        "\n",
        "dataset1 = FashionMNIST('.', train=True, download=True, transform=transform)\n",
        "dataset2 = FashionMNIST('.', train=False, transform=transform)\n",
        "\n",
        "train_loader = torch.utils.data.DataLoader(dataset1, batch_size=batch_size, shuffle=True)\n",
        "test_loader = torch.utils.data.DataLoader(dataset2, batch_size=batch_size)\n",
        "\n",
        "\n",
        "embedding_net = EmbeddingNet()\n",
        "\n",
        "model = Net(embedding_net).to(device)\n",
        "optimizer = optim.Adam(model.parameters(), lr=0.01)\n",
        "num_epochs = 10\n",
        "\n",
        "for triplet in [\"easy\", \"hard\", \"semihard\"]:\n",
        "    mining_func = miners.TripletMarginMiner(margin = 0.2, distance=distance, type_of_triplets=triplet)\n",
        "    losses = []\n",
        "    for epoch in range(1, num_epochs + 1):\n",
        "        loss = train(model, loss_func, mining_func, train_loader, optimizer, epoch)\n",
        "        losses.append(loss)\n",
        "        test(dataset1, dataset2, model, accuracy_calculator)\n",
        "    \n",
        "    plt.plot(losses, label=triplet)\n",
        "\n",
        "plt.legend()\n",
        "plt.show()"
      ],
      "execution_count": 12,
      "outputs": [
        {
          "output_type": "stream",
          "text": [
            "Epoch 1 Iteration 0: Loss = 0.0, Number of mined triplets = 3292\n",
            "Epoch 1 Iteration 20: Loss = 0.0, Number of mined triplets = 656\n",
            "Epoch 1 Iteration 40: Loss = 0.0, Number of mined triplets = 2660\n",
            "Epoch 1 Iteration 60: Loss = 0.0, Number of mined triplets = 2997\n",
            "Epoch 1 Iteration 80: Loss = 0.0, Number of mined triplets = 1835\n",
            "Epoch 1 Iteration 100: Loss = 0.0, Number of mined triplets = 572\n",
            "Epoch 1 Iteration 120: Loss = 0.0, Number of mined triplets = 1846\n",
            "Epoch 1 Iteration 140: Loss = 0.0, Number of mined triplets = 1565\n",
            "Epoch 1 Iteration 160: Loss = 0.0, Number of mined triplets = 5031\n",
            "Epoch 1 Iteration 180: Loss = 0.0, Number of mined triplets = 2066\n",
            "Epoch 1 Iteration 200: Loss = 0.0, Number of mined triplets = 1967\n",
            "Epoch 1 Iteration 220: Loss = 0.0, Number of mined triplets = 4259\n"
          ],
          "name": "stdout"
        },
        {
          "output_type": "stream",
          "text": [
            "100%|██████████| 1875/1875 [00:15<00:00, 122.60it/s]\n",
            "100%|██████████| 313/313 [00:02<00:00, 117.87it/s]\n"
          ],
          "name": "stderr"
        },
        {
          "output_type": "stream",
          "text": [
            "Computing accuracy\n",
            "Test set accuracy (Precision@1) = 0.1849\n",
            "Epoch 2 Iteration 0: Loss = 0.0, Number of mined triplets = 3904\n",
            "Epoch 2 Iteration 20: Loss = 0.0, Number of mined triplets = 737\n",
            "Epoch 2 Iteration 40: Loss = 0.0, Number of mined triplets = 4812\n",
            "Epoch 2 Iteration 60: Loss = 0.0, Number of mined triplets = 1414\n",
            "Epoch 2 Iteration 80: Loss = 0.0, Number of mined triplets = 2232\n",
            "Epoch 2 Iteration 100: Loss = 0.0, Number of mined triplets = 2261\n",
            "Epoch 2 Iteration 120: Loss = 0.0, Number of mined triplets = 2002\n",
            "Epoch 2 Iteration 140: Loss = 0.0, Number of mined triplets = 1142\n",
            "Epoch 2 Iteration 160: Loss = 0.0, Number of mined triplets = 2381\n",
            "Epoch 2 Iteration 180: Loss = 0.0, Number of mined triplets = 531\n",
            "Epoch 2 Iteration 200: Loss = 0.0, Number of mined triplets = 7556\n",
            "Epoch 2 Iteration 220: Loss = 0.0, Number of mined triplets = 2707\n"
          ],
          "name": "stdout"
        },
        {
          "output_type": "stream",
          "text": [
            "100%|██████████| 1875/1875 [00:15<00:00, 123.73it/s]\n",
            "100%|██████████| 313/313 [00:02<00:00, 120.17it/s]\n"
          ],
          "name": "stderr"
        },
        {
          "output_type": "stream",
          "text": [
            "Computing accuracy\n",
            "Test set accuracy (Precision@1) = 0.1849\n",
            "Epoch 3 Iteration 0: Loss = 0.0, Number of mined triplets = 4011\n",
            "Epoch 3 Iteration 20: Loss = 0.0, Number of mined triplets = 402\n",
            "Epoch 3 Iteration 40: Loss = 0.0, Number of mined triplets = 373\n",
            "Epoch 3 Iteration 60: Loss = 0.0, Number of mined triplets = 2533\n",
            "Epoch 3 Iteration 80: Loss = 0.0, Number of mined triplets = 990\n",
            "Epoch 3 Iteration 100: Loss = 0.0, Number of mined triplets = 682\n",
            "Epoch 3 Iteration 120: Loss = 0.0, Number of mined triplets = 264\n",
            "Epoch 3 Iteration 140: Loss = 0.0, Number of mined triplets = 1426\n",
            "Epoch 3 Iteration 160: Loss = 0.0, Number of mined triplets = 1269\n",
            "Epoch 3 Iteration 180: Loss = 0.0, Number of mined triplets = 2040\n",
            "Epoch 3 Iteration 200: Loss = 0.0, Number of mined triplets = 5473\n",
            "Epoch 3 Iteration 220: Loss = 0.0, Number of mined triplets = 769\n"
          ],
          "name": "stdout"
        },
        {
          "output_type": "stream",
          "text": [
            "100%|██████████| 1875/1875 [00:15<00:00, 124.77it/s]\n",
            "100%|██████████| 313/313 [00:02<00:00, 122.02it/s]\n"
          ],
          "name": "stderr"
        },
        {
          "output_type": "stream",
          "text": [
            "Computing accuracy\n",
            "Test set accuracy (Precision@1) = 0.1849\n",
            "Epoch 4 Iteration 0: Loss = 0.0, Number of mined triplets = 1074\n",
            "Epoch 4 Iteration 20: Loss = 0.0, Number of mined triplets = 496\n",
            "Epoch 4 Iteration 40: Loss = 0.0, Number of mined triplets = 1072\n",
            "Epoch 4 Iteration 60: Loss = 0.0, Number of mined triplets = 2617\n",
            "Epoch 4 Iteration 80: Loss = 0.0, Number of mined triplets = 2557\n",
            "Epoch 4 Iteration 100: Loss = 0.0, Number of mined triplets = 4093\n",
            "Epoch 4 Iteration 120: Loss = 0.0, Number of mined triplets = 2056\n",
            "Epoch 4 Iteration 140: Loss = 0.0, Number of mined triplets = 2189\n",
            "Epoch 4 Iteration 160: Loss = 0.0, Number of mined triplets = 1675\n",
            "Epoch 4 Iteration 180: Loss = 0.0, Number of mined triplets = 2450\n",
            "Epoch 4 Iteration 200: Loss = 0.0, Number of mined triplets = 1978\n",
            "Epoch 4 Iteration 220: Loss = 0.0, Number of mined triplets = 3200\n"
          ],
          "name": "stdout"
        },
        {
          "output_type": "stream",
          "text": [
            "100%|██████████| 1875/1875 [00:15<00:00, 122.11it/s]\n",
            "100%|██████████| 313/313 [00:02<00:00, 118.69it/s]\n"
          ],
          "name": "stderr"
        },
        {
          "output_type": "stream",
          "text": [
            "Computing accuracy\n",
            "Test set accuracy (Precision@1) = 0.1849\n",
            "Epoch 5 Iteration 0: Loss = 0.0, Number of mined triplets = 3537\n",
            "Epoch 5 Iteration 20: Loss = 0.0, Number of mined triplets = 4425\n",
            "Epoch 5 Iteration 40: Loss = 0.0, Number of mined triplets = 4410\n",
            "Epoch 5 Iteration 60: Loss = 0.0, Number of mined triplets = 982\n",
            "Epoch 5 Iteration 80: Loss = 0.0, Number of mined triplets = 3461\n",
            "Epoch 5 Iteration 100: Loss = 0.0, Number of mined triplets = 1902\n",
            "Epoch 5 Iteration 120: Loss = 0.0, Number of mined triplets = 5287\n",
            "Epoch 5 Iteration 140: Loss = 0.0, Number of mined triplets = 3936\n",
            "Epoch 5 Iteration 160: Loss = 0.0, Number of mined triplets = 1897\n",
            "Epoch 5 Iteration 180: Loss = 0.0, Number of mined triplets = 3081\n",
            "Epoch 5 Iteration 200: Loss = 0.0, Number of mined triplets = 855\n",
            "Epoch 5 Iteration 220: Loss = 0.0, Number of mined triplets = 2674\n"
          ],
          "name": "stdout"
        },
        {
          "output_type": "stream",
          "text": [
            "100%|██████████| 1875/1875 [00:15<00:00, 124.35it/s]\n",
            "100%|██████████| 313/313 [00:02<00:00, 121.01it/s]\n"
          ],
          "name": "stderr"
        },
        {
          "output_type": "stream",
          "text": [
            "Computing accuracy\n",
            "Test set accuracy (Precision@1) = 0.1849\n",
            "Epoch 6 Iteration 0: Loss = 0.0, Number of mined triplets = 2703\n",
            "Epoch 6 Iteration 20: Loss = 0.0, Number of mined triplets = 3126\n",
            "Epoch 6 Iteration 40: Loss = 0.0, Number of mined triplets = 1230\n",
            "Epoch 6 Iteration 60: Loss = 0.0, Number of mined triplets = 4027\n",
            "Epoch 6 Iteration 80: Loss = 0.0, Number of mined triplets = 1746\n",
            "Epoch 6 Iteration 100: Loss = 0.0, Number of mined triplets = 3101\n",
            "Epoch 6 Iteration 120: Loss = 0.0, Number of mined triplets = 963\n",
            "Epoch 6 Iteration 140: Loss = 0.0, Number of mined triplets = 5293\n",
            "Epoch 6 Iteration 160: Loss = 0.0, Number of mined triplets = 765\n",
            "Epoch 6 Iteration 180: Loss = 0.0, Number of mined triplets = 1263\n",
            "Epoch 6 Iteration 200: Loss = 0.0, Number of mined triplets = 1936\n",
            "Epoch 6 Iteration 220: Loss = 0.0, Number of mined triplets = 2718\n"
          ],
          "name": "stdout"
        },
        {
          "output_type": "stream",
          "text": [
            "100%|██████████| 1875/1875 [00:15<00:00, 124.32it/s]\n",
            "100%|██████████| 313/313 [00:02<00:00, 122.41it/s]\n"
          ],
          "name": "stderr"
        },
        {
          "output_type": "stream",
          "text": [
            "Computing accuracy\n",
            "Test set accuracy (Precision@1) = 0.1849\n",
            "Epoch 7 Iteration 0: Loss = 0.0, Number of mined triplets = 2465\n",
            "Epoch 7 Iteration 20: Loss = 0.0, Number of mined triplets = 1648\n",
            "Epoch 7 Iteration 40: Loss = 0.0, Number of mined triplets = 679\n",
            "Epoch 7 Iteration 60: Loss = 0.0, Number of mined triplets = 2989\n",
            "Epoch 7 Iteration 80: Loss = 0.0, Number of mined triplets = 754\n",
            "Epoch 7 Iteration 100: Loss = 0.0, Number of mined triplets = 910\n",
            "Epoch 7 Iteration 120: Loss = 0.0, Number of mined triplets = 295\n",
            "Epoch 7 Iteration 140: Loss = 0.0, Number of mined triplets = 2553\n",
            "Epoch 7 Iteration 160: Loss = 0.0, Number of mined triplets = 4627\n",
            "Epoch 7 Iteration 180: Loss = 0.0, Number of mined triplets = 1624\n",
            "Epoch 7 Iteration 200: Loss = 0.0, Number of mined triplets = 1721\n",
            "Epoch 7 Iteration 220: Loss = 0.0, Number of mined triplets = 2701\n"
          ],
          "name": "stdout"
        },
        {
          "output_type": "stream",
          "text": [
            "100%|██████████| 1875/1875 [00:15<00:00, 124.93it/s]\n",
            "100%|██████████| 313/313 [00:02<00:00, 122.22it/s]\n"
          ],
          "name": "stderr"
        },
        {
          "output_type": "stream",
          "text": [
            "Computing accuracy\n",
            "Test set accuracy (Precision@1) = 0.1849\n",
            "Epoch 8 Iteration 0: Loss = 0.0, Number of mined triplets = 842\n",
            "Epoch 8 Iteration 20: Loss = 0.0, Number of mined triplets = 816\n",
            "Epoch 8 Iteration 40: Loss = 0.0, Number of mined triplets = 2215\n",
            "Epoch 8 Iteration 60: Loss = 0.0, Number of mined triplets = 3416\n",
            "Epoch 8 Iteration 80: Loss = 0.0, Number of mined triplets = 465\n",
            "Epoch 8 Iteration 100: Loss = 0.0, Number of mined triplets = 1716\n",
            "Epoch 8 Iteration 120: Loss = 0.0, Number of mined triplets = 1924\n",
            "Epoch 8 Iteration 140: Loss = 0.0, Number of mined triplets = 4025\n",
            "Epoch 8 Iteration 160: Loss = 0.0, Number of mined triplets = 1338\n",
            "Epoch 8 Iteration 180: Loss = 0.0, Number of mined triplets = 2119\n",
            "Epoch 8 Iteration 200: Loss = 0.0, Number of mined triplets = 1779\n",
            "Epoch 8 Iteration 220: Loss = 0.0, Number of mined triplets = 1663\n"
          ],
          "name": "stdout"
        },
        {
          "output_type": "stream",
          "text": [
            "100%|██████████| 1875/1875 [00:15<00:00, 124.59it/s]\n",
            "100%|██████████| 313/313 [00:02<00:00, 119.10it/s]\n"
          ],
          "name": "stderr"
        },
        {
          "output_type": "stream",
          "text": [
            "Computing accuracy\n",
            "Test set accuracy (Precision@1) = 0.1849\n",
            "Epoch 9 Iteration 0: Loss = 0.0, Number of mined triplets = 1706\n",
            "Epoch 9 Iteration 20: Loss = 0.0, Number of mined triplets = 862\n",
            "Epoch 9 Iteration 40: Loss = 0.0, Number of mined triplets = 2346\n",
            "Epoch 9 Iteration 60: Loss = 0.0, Number of mined triplets = 4348\n",
            "Epoch 9 Iteration 80: Loss = 0.0, Number of mined triplets = 5122\n",
            "Epoch 9 Iteration 100: Loss = 0.0, Number of mined triplets = 1729\n",
            "Epoch 9 Iteration 120: Loss = 0.0, Number of mined triplets = 3076\n",
            "Epoch 9 Iteration 140: Loss = 0.0, Number of mined triplets = 7022\n",
            "Epoch 9 Iteration 160: Loss = 0.0, Number of mined triplets = 822\n",
            "Epoch 9 Iteration 180: Loss = 0.0, Number of mined triplets = 5407\n",
            "Epoch 9 Iteration 200: Loss = 0.0, Number of mined triplets = 818\n",
            "Epoch 9 Iteration 220: Loss = 0.0, Number of mined triplets = 1922\n"
          ],
          "name": "stdout"
        },
        {
          "output_type": "stream",
          "text": [
            "100%|██████████| 1875/1875 [00:14<00:00, 125.12it/s]\n",
            "100%|██████████| 313/313 [00:02<00:00, 119.61it/s]\n"
          ],
          "name": "stderr"
        },
        {
          "output_type": "stream",
          "text": [
            "Computing accuracy\n",
            "Test set accuracy (Precision@1) = 0.1849\n",
            "Epoch 10 Iteration 0: Loss = 0.0, Number of mined triplets = 919\n",
            "Epoch 10 Iteration 20: Loss = 0.0, Number of mined triplets = 2407\n",
            "Epoch 10 Iteration 40: Loss = 0.0, Number of mined triplets = 292\n",
            "Epoch 10 Iteration 60: Loss = 0.0, Number of mined triplets = 1343\n",
            "Epoch 10 Iteration 80: Loss = 0.0, Number of mined triplets = 5022\n",
            "Epoch 10 Iteration 100: Loss = 0.0, Number of mined triplets = 3183\n",
            "Epoch 10 Iteration 120: Loss = 0.0, Number of mined triplets = 2354\n",
            "Epoch 10 Iteration 140: Loss = 0.0, Number of mined triplets = 3062\n",
            "Epoch 10 Iteration 160: Loss = 0.0, Number of mined triplets = 1615\n",
            "Epoch 10 Iteration 180: Loss = 0.0, Number of mined triplets = 1482\n",
            "Epoch 10 Iteration 200: Loss = 0.0, Number of mined triplets = 339\n",
            "Epoch 10 Iteration 220: Loss = 0.0, Number of mined triplets = 4203\n"
          ],
          "name": "stdout"
        },
        {
          "output_type": "stream",
          "text": [
            "100%|██████████| 1875/1875 [00:15<00:00, 122.67it/s]\n",
            "100%|██████████| 313/313 [00:02<00:00, 120.34it/s]\n"
          ],
          "name": "stderr"
        },
        {
          "output_type": "stream",
          "text": [
            "Computing accuracy\n",
            "Test set accuracy (Precision@1) = 0.1849\n",
            "Epoch 1 Iteration 0: Loss = 0.21141812205314636, Number of mined triplets = 494361\n",
            "Epoch 1 Iteration 20: Loss = 0.20000004768371582, Number of mined triplets = 1017796\n",
            "Epoch 1 Iteration 40: Loss = 0.20000003278255463, Number of mined triplets = 945365\n",
            "Epoch 1 Iteration 60: Loss = 0.20000004768371582, Number of mined triplets = 905689\n",
            "Epoch 1 Iteration 80: Loss = 0.20000006258487701, Number of mined triplets = 971225\n",
            "Epoch 1 Iteration 100: Loss = 0.20000003278255463, Number of mined triplets = 923735\n",
            "Epoch 1 Iteration 120: Loss = 0.20000003278255463, Number of mined triplets = 889842\n",
            "Epoch 1 Iteration 140: Loss = 0.20000004768371582, Number of mined triplets = 916113\n",
            "Epoch 1 Iteration 160: Loss = 0.20000003278255463, Number of mined triplets = 884403\n",
            "Epoch 1 Iteration 180: Loss = 0.20000003278255463, Number of mined triplets = 885560\n",
            "Epoch 1 Iteration 200: Loss = 0.20000004768371582, Number of mined triplets = 883378\n",
            "Epoch 1 Iteration 220: Loss = 0.20000004768371582, Number of mined triplets = 831272\n"
          ],
          "name": "stdout"
        },
        {
          "output_type": "stream",
          "text": [
            "100%|██████████| 1875/1875 [00:15<00:00, 122.85it/s]\n",
            "100%|██████████| 313/313 [00:02<00:00, 120.35it/s]\n"
          ],
          "name": "stderr"
        },
        {
          "output_type": "stream",
          "text": [
            "Computing accuracy\n",
            "Test set accuracy (Precision@1) = 0.2039\n",
            "Epoch 2 Iteration 0: Loss = 0.20000006258487701, Number of mined triplets = 793364\n",
            "Epoch 2 Iteration 20: Loss = 0.20000003278255463, Number of mined triplets = 828742\n",
            "Epoch 2 Iteration 40: Loss = 0.20000003278255463, Number of mined triplets = 845630\n",
            "Epoch 2 Iteration 60: Loss = 0.20000003278255463, Number of mined triplets = 786117\n",
            "Epoch 2 Iteration 80: Loss = 0.20000004768371582, Number of mined triplets = 763103\n",
            "Epoch 2 Iteration 100: Loss = 0.20000006258487701, Number of mined triplets = 829773\n",
            "Epoch 2 Iteration 120: Loss = 0.20000003278255463, Number of mined triplets = 736434\n",
            "Epoch 2 Iteration 140: Loss = 0.20000004768371582, Number of mined triplets = 747355\n",
            "Epoch 2 Iteration 160: Loss = 0.20000004768371582, Number of mined triplets = 751268\n",
            "Epoch 2 Iteration 180: Loss = 0.20000004768371582, Number of mined triplets = 675455\n",
            "Epoch 2 Iteration 200: Loss = 0.20000003278255463, Number of mined triplets = 734144\n",
            "Epoch 2 Iteration 220: Loss = 0.20000004768371582, Number of mined triplets = 714025\n"
          ],
          "name": "stdout"
        },
        {
          "output_type": "stream",
          "text": [
            "100%|██████████| 1875/1875 [00:15<00:00, 120.93it/s]\n",
            "100%|██████████| 313/313 [00:02<00:00, 118.92it/s]\n"
          ],
          "name": "stderr"
        },
        {
          "output_type": "stream",
          "text": [
            "Computing accuracy\n",
            "Test set accuracy (Precision@1) = 0.2523\n",
            "Epoch 3 Iteration 0: Loss = 0.20000004768371582, Number of mined triplets = 676228\n",
            "Epoch 3 Iteration 20: Loss = 0.20000003278255463, Number of mined triplets = 675798\n",
            "Epoch 3 Iteration 40: Loss = 0.20000003278255463, Number of mined triplets = 734678\n",
            "Epoch 3 Iteration 60: Loss = 0.20000006258487701, Number of mined triplets = 678176\n",
            "Epoch 3 Iteration 80: Loss = 0.20000004768371582, Number of mined triplets = 646647\n",
            "Epoch 3 Iteration 100: Loss = 0.20000006258487701, Number of mined triplets = 669518\n",
            "Epoch 3 Iteration 120: Loss = 0.20000004768371582, Number of mined triplets = 608838\n",
            "Epoch 3 Iteration 140: Loss = 0.20000004768371582, Number of mined triplets = 636755\n",
            "Epoch 3 Iteration 160: Loss = 0.20000003278255463, Number of mined triplets = 610931\n",
            "Epoch 3 Iteration 180: Loss = 0.20000004768371582, Number of mined triplets = 558596\n",
            "Epoch 3 Iteration 200: Loss = 0.20000003278255463, Number of mined triplets = 653688\n",
            "Epoch 3 Iteration 220: Loss = 0.20000004768371582, Number of mined triplets = 627545\n"
          ],
          "name": "stdout"
        },
        {
          "output_type": "stream",
          "text": [
            "100%|██████████| 1875/1875 [00:15<00:00, 121.53it/s]\n",
            "100%|██████████| 313/313 [00:02<00:00, 120.44it/s]\n"
          ],
          "name": "stderr"
        },
        {
          "output_type": "stream",
          "text": [
            "Computing accuracy\n",
            "Test set accuracy (Precision@1) = 0.2791\n",
            "Epoch 4 Iteration 0: Loss = 0.20000004768371582, Number of mined triplets = 630503\n",
            "Epoch 4 Iteration 20: Loss = 0.20000003278255463, Number of mined triplets = 597812\n",
            "Epoch 4 Iteration 40: Loss = 0.20000006258487701, Number of mined triplets = 671687\n",
            "Epoch 4 Iteration 60: Loss = 0.20000003278255463, Number of mined triplets = 566256\n",
            "Epoch 4 Iteration 80: Loss = 0.20000003278255463, Number of mined triplets = 523650\n",
            "Epoch 4 Iteration 100: Loss = 0.20000003278255463, Number of mined triplets = 577610\n",
            "Epoch 4 Iteration 120: Loss = 0.20000004768371582, Number of mined triplets = 557476\n",
            "Epoch 4 Iteration 140: Loss = 0.20000003278255463, Number of mined triplets = 580017\n",
            "Epoch 4 Iteration 160: Loss = 0.20000004768371582, Number of mined triplets = 548728\n",
            "Epoch 4 Iteration 180: Loss = 0.20000006258487701, Number of mined triplets = 530485\n",
            "Epoch 4 Iteration 200: Loss = 0.20000004768371582, Number of mined triplets = 586256\n",
            "Epoch 4 Iteration 220: Loss = 0.20000003278255463, Number of mined triplets = 517501\n"
          ],
          "name": "stdout"
        },
        {
          "output_type": "stream",
          "text": [
            "100%|██████████| 1875/1875 [00:15<00:00, 122.16it/s]\n",
            "100%|██████████| 313/313 [00:02<00:00, 120.59it/s]\n"
          ],
          "name": "stderr"
        },
        {
          "output_type": "stream",
          "text": [
            "Computing accuracy\n",
            "Test set accuracy (Precision@1) = 0.2962\n",
            "Epoch 5 Iteration 0: Loss = 0.20000003278255463, Number of mined triplets = 476291\n",
            "Epoch 5 Iteration 20: Loss = 0.20000006258487701, Number of mined triplets = 514851\n",
            "Epoch 5 Iteration 40: Loss = 0.20000004768371582, Number of mined triplets = 570190\n",
            "Epoch 5 Iteration 60: Loss = 0.20000004768371582, Number of mined triplets = 521879\n",
            "Epoch 5 Iteration 80: Loss = 0.20000003278255463, Number of mined triplets = 520873\n",
            "Epoch 5 Iteration 100: Loss = 0.20000004768371582, Number of mined triplets = 549362\n",
            "Epoch 5 Iteration 120: Loss = 0.20000004768371582, Number of mined triplets = 534528\n",
            "Epoch 5 Iteration 140: Loss = 0.20000001788139343, Number of mined triplets = 457098\n",
            "Epoch 5 Iteration 160: Loss = 0.20000003278255463, Number of mined triplets = 510776\n",
            "Epoch 5 Iteration 180: Loss = 0.20000003278255463, Number of mined triplets = 541746\n",
            "Epoch 5 Iteration 200: Loss = 0.20000004768371582, Number of mined triplets = 469537\n",
            "Epoch 5 Iteration 220: Loss = 0.20000001788139343, Number of mined triplets = 453491\n"
          ],
          "name": "stdout"
        },
        {
          "output_type": "stream",
          "text": [
            "100%|██████████| 1875/1875 [00:15<00:00, 122.61it/s]\n",
            "100%|██████████| 313/313 [00:02<00:00, 120.39it/s]\n"
          ],
          "name": "stderr"
        },
        {
          "output_type": "stream",
          "text": [
            "Computing accuracy\n",
            "Test set accuracy (Precision@1) = 0.31220000000000003\n",
            "Epoch 6 Iteration 0: Loss = 0.20000003278255463, Number of mined triplets = 462526\n",
            "Epoch 6 Iteration 20: Loss = 0.20000001788139343, Number of mined triplets = 455428\n",
            "Epoch 6 Iteration 40: Loss = 0.20000006258487701, Number of mined triplets = 487860\n",
            "Epoch 6 Iteration 60: Loss = 0.20000004768371582, Number of mined triplets = 467684\n",
            "Epoch 6 Iteration 80: Loss = 0.20000001788139343, Number of mined triplets = 455104\n",
            "Epoch 6 Iteration 100: Loss = 0.20000001788139343, Number of mined triplets = 423787\n",
            "Epoch 6 Iteration 120: Loss = 0.20000004768371582, Number of mined triplets = 465572\n",
            "Epoch 6 Iteration 140: Loss = 0.20000003278255463, Number of mined triplets = 492216\n",
            "Epoch 6 Iteration 160: Loss = 0.20000003278255463, Number of mined triplets = 431213\n",
            "Epoch 6 Iteration 180: Loss = 0.20000006258487701, Number of mined triplets = 468797\n",
            "Epoch 6 Iteration 200: Loss = 0.20000003278255463, Number of mined triplets = 437935\n",
            "Epoch 6 Iteration 220: Loss = 0.20000004768371582, Number of mined triplets = 478812\n"
          ],
          "name": "stdout"
        },
        {
          "output_type": "stream",
          "text": [
            "100%|██████████| 1875/1875 [00:15<00:00, 122.66it/s]\n",
            "100%|██████████| 313/313 [00:02<00:00, 119.76it/s]\n"
          ],
          "name": "stderr"
        },
        {
          "output_type": "stream",
          "text": [
            "Computing accuracy\n",
            "Test set accuracy (Precision@1) = 0.3251\n",
            "Epoch 7 Iteration 0: Loss = 0.20000003278255463, Number of mined triplets = 488885\n",
            "Epoch 7 Iteration 20: Loss = 0.20000000298023224, Number of mined triplets = 441332\n",
            "Epoch 7 Iteration 40: Loss = 0.20000001788139343, Number of mined triplets = 462913\n",
            "Epoch 7 Iteration 60: Loss = 0.20000001788139343, Number of mined triplets = 429237\n",
            "Epoch 7 Iteration 80: Loss = 0.20000003278255463, Number of mined triplets = 475649\n",
            "Epoch 7 Iteration 100: Loss = 0.20000006258487701, Number of mined triplets = 486930\n",
            "Epoch 7 Iteration 120: Loss = 0.20000004768371582, Number of mined triplets = 461622\n",
            "Epoch 7 Iteration 140: Loss = 0.20000003278255463, Number of mined triplets = 422885\n",
            "Epoch 7 Iteration 160: Loss = 0.20000004768371582, Number of mined triplets = 496863\n",
            "Epoch 7 Iteration 180: Loss = 0.20000000298023224, Number of mined triplets = 433630\n",
            "Epoch 7 Iteration 200: Loss = 0.20000001788139343, Number of mined triplets = 434817\n",
            "Epoch 7 Iteration 220: Loss = 0.20000004768371582, Number of mined triplets = 408371\n"
          ],
          "name": "stdout"
        },
        {
          "output_type": "stream",
          "text": [
            "100%|██████████| 1875/1875 [00:15<00:00, 123.21it/s]\n",
            "100%|██████████| 313/313 [00:02<00:00, 121.01it/s]\n"
          ],
          "name": "stderr"
        },
        {
          "output_type": "stream",
          "text": [
            "Computing accuracy\n",
            "Test set accuracy (Precision@1) = 0.35100000000000003\n",
            "Epoch 8 Iteration 0: Loss = 0.20000000298023224, Number of mined triplets = 427359\n",
            "Epoch 8 Iteration 20: Loss = 0.20000000298023224, Number of mined triplets = 387436\n",
            "Epoch 8 Iteration 40: Loss = 0.20000004768371582, Number of mined triplets = 467722\n",
            "Epoch 8 Iteration 60: Loss = 0.20000000298023224, Number of mined triplets = 406476\n",
            "Epoch 8 Iteration 80: Loss = 0.20000003278255463, Number of mined triplets = 455737\n",
            "Epoch 8 Iteration 100: Loss = 0.20000003278255463, Number of mined triplets = 421739\n",
            "Epoch 8 Iteration 120: Loss = 0.20000001788139343, Number of mined triplets = 410740\n",
            "Epoch 8 Iteration 140: Loss = 0.20000004768371582, Number of mined triplets = 439815\n",
            "Epoch 8 Iteration 160: Loss = 0.20000003278255463, Number of mined triplets = 419470\n",
            "Epoch 8 Iteration 180: Loss = 0.20000003278255463, Number of mined triplets = 406047\n",
            "Epoch 8 Iteration 200: Loss = 0.20000004768371582, Number of mined triplets = 459979\n",
            "Epoch 8 Iteration 220: Loss = 0.20000003278255463, Number of mined triplets = 454813\n"
          ],
          "name": "stdout"
        },
        {
          "output_type": "stream",
          "text": [
            "100%|██████████| 1875/1875 [00:15<00:00, 123.50it/s]\n",
            "100%|██████████| 313/313 [00:02<00:00, 117.18it/s]\n"
          ],
          "name": "stderr"
        },
        {
          "output_type": "stream",
          "text": [
            "Computing accuracy\n",
            "Test set accuracy (Precision@1) = 0.3754\n",
            "Epoch 9 Iteration 0: Loss = 0.20000003278255463, Number of mined triplets = 408181\n",
            "Epoch 9 Iteration 20: Loss = 0.20000003278255463, Number of mined triplets = 386625\n",
            "Epoch 9 Iteration 40: Loss = 0.20000004768371582, Number of mined triplets = 460926\n",
            "Epoch 9 Iteration 60: Loss = 0.20000004768371582, Number of mined triplets = 386577\n",
            "Epoch 9 Iteration 80: Loss = 0.20000001788139343, Number of mined triplets = 405347\n",
            "Epoch 9 Iteration 100: Loss = 0.20000004768371582, Number of mined triplets = 443638\n",
            "Epoch 9 Iteration 120: Loss = 0.20000001788139343, Number of mined triplets = 422357\n",
            "Epoch 9 Iteration 140: Loss = 0.20000001788139343, Number of mined triplets = 422915\n",
            "Epoch 9 Iteration 160: Loss = 0.20000003278255463, Number of mined triplets = 402669\n",
            "Epoch 9 Iteration 180: Loss = 0.20000004768371582, Number of mined triplets = 400721\n",
            "Epoch 9 Iteration 200: Loss = 0.20000003278255463, Number of mined triplets = 439190\n",
            "Epoch 9 Iteration 220: Loss = 0.20000003278255463, Number of mined triplets = 454935\n"
          ],
          "name": "stdout"
        },
        {
          "output_type": "stream",
          "text": [
            "100%|██████████| 1875/1875 [00:15<00:00, 123.07it/s]\n",
            "100%|██████████| 313/313 [00:02<00:00, 119.73it/s]\n"
          ],
          "name": "stderr"
        },
        {
          "output_type": "stream",
          "text": [
            "Computing accuracy\n",
            "Test set accuracy (Precision@1) = 0.39890000000000003\n",
            "Epoch 10 Iteration 0: Loss = 0.20000001788139343, Number of mined triplets = 364570\n",
            "Epoch 10 Iteration 20: Loss = 0.20000003278255463, Number of mined triplets = 380284\n",
            "Epoch 10 Iteration 40: Loss = 0.20000003278255463, Number of mined triplets = 411407\n",
            "Epoch 10 Iteration 60: Loss = 0.20000001788139343, Number of mined triplets = 437653\n",
            "Epoch 10 Iteration 80: Loss = 0.20000001788139343, Number of mined triplets = 406640\n",
            "Epoch 10 Iteration 100: Loss = 0.20000001788139343, Number of mined triplets = 408508\n",
            "Epoch 10 Iteration 120: Loss = 0.20000001788139343, Number of mined triplets = 389615\n",
            "Epoch 10 Iteration 140: Loss = 0.20000001788139343, Number of mined triplets = 400673\n",
            "Epoch 10 Iteration 160: Loss = 0.20000001788139343, Number of mined triplets = 381141\n",
            "Epoch 10 Iteration 180: Loss = 0.20000003278255463, Number of mined triplets = 404974\n",
            "Epoch 10 Iteration 200: Loss = 0.20000004768371582, Number of mined triplets = 401796\n",
            "Epoch 10 Iteration 220: Loss = 0.20000003278255463, Number of mined triplets = 445071\n"
          ],
          "name": "stdout"
        },
        {
          "output_type": "stream",
          "text": [
            "100%|██████████| 1875/1875 [00:15<00:00, 124.19it/s]\n",
            "100%|██████████| 313/313 [00:02<00:00, 118.38it/s]\n"
          ],
          "name": "stderr"
        },
        {
          "output_type": "stream",
          "text": [
            "Computing accuracy\n",
            "Test set accuracy (Precision@1) = 0.3987\n",
            "Epoch 1 Iteration 0: Loss = 0.19999966025352478, Number of mined triplets = 1093318\n",
            "Epoch 1 Iteration 20: Loss = 0.13253436982631683, Number of mined triplets = 664708\n",
            "Epoch 1 Iteration 40: Loss = 0.11948725581169128, Number of mined triplets = 238017\n",
            "Epoch 1 Iteration 60: Loss = 0.11154946684837341, Number of mined triplets = 161017\n",
            "Epoch 1 Iteration 80: Loss = 0.11659184098243713, Number of mined triplets = 143290\n",
            "Epoch 1 Iteration 100: Loss = 0.10950136184692383, Number of mined triplets = 164535\n",
            "Epoch 1 Iteration 120: Loss = 0.11453349143266678, Number of mined triplets = 153194\n",
            "Epoch 1 Iteration 140: Loss = 0.11365512013435364, Number of mined triplets = 127032\n",
            "Epoch 1 Iteration 160: Loss = 0.1109444722533226, Number of mined triplets = 142419\n",
            "Epoch 1 Iteration 180: Loss = 0.11274898052215576, Number of mined triplets = 123891\n",
            "Epoch 1 Iteration 200: Loss = 0.107134148478508, Number of mined triplets = 115979\n",
            "Epoch 1 Iteration 220: Loss = 0.11538654565811157, Number of mined triplets = 141690\n"
          ],
          "name": "stdout"
        },
        {
          "output_type": "stream",
          "text": [
            "100%|██████████| 1875/1875 [00:15<00:00, 123.67it/s]\n",
            "100%|██████████| 313/313 [00:02<00:00, 119.12it/s]\n"
          ],
          "name": "stderr"
        },
        {
          "output_type": "stream",
          "text": [
            "Computing accuracy\n",
            "Test set accuracy (Precision@1) = 0.6306\n",
            "Epoch 2 Iteration 0: Loss = 0.11103447526693344, Number of mined triplets = 150663\n",
            "Epoch 2 Iteration 20: Loss = 0.10394763946533203, Number of mined triplets = 119530\n",
            "Epoch 2 Iteration 40: Loss = 0.10051816701889038, Number of mined triplets = 144682\n",
            "Epoch 2 Iteration 60: Loss = 0.10893955826759338, Number of mined triplets = 150127\n",
            "Epoch 2 Iteration 80: Loss = 0.09329963475465775, Number of mined triplets = 163310\n",
            "Epoch 2 Iteration 100: Loss = 0.11312738806009293, Number of mined triplets = 148825\n",
            "Epoch 2 Iteration 120: Loss = 0.10792998969554901, Number of mined triplets = 151181\n",
            "Epoch 2 Iteration 140: Loss = 0.088067926466465, Number of mined triplets = 136070\n",
            "Epoch 2 Iteration 160: Loss = 0.0922052189707756, Number of mined triplets = 154429\n",
            "Epoch 2 Iteration 180: Loss = 0.10042551159858704, Number of mined triplets = 135477\n",
            "Epoch 2 Iteration 200: Loss = 0.09230934083461761, Number of mined triplets = 149491\n",
            "Epoch 2 Iteration 220: Loss = 0.0886697992682457, Number of mined triplets = 139867\n"
          ],
          "name": "stdout"
        },
        {
          "output_type": "stream",
          "text": [
            "100%|██████████| 1875/1875 [00:14<00:00, 125.19it/s]\n",
            "100%|██████████| 313/313 [00:02<00:00, 121.64it/s]\n"
          ],
          "name": "stderr"
        },
        {
          "output_type": "stream",
          "text": [
            "Computing accuracy\n",
            "Test set accuracy (Precision@1) = 0.6928000000000001\n",
            "Epoch 3 Iteration 0: Loss = 0.09575178474187851, Number of mined triplets = 153441\n",
            "Epoch 3 Iteration 20: Loss = 0.11319547891616821, Number of mined triplets = 164359\n",
            "Epoch 3 Iteration 40: Loss = 0.10276377946138382, Number of mined triplets = 144307\n",
            "Epoch 3 Iteration 60: Loss = 0.1027875766158104, Number of mined triplets = 159167\n",
            "Epoch 3 Iteration 80: Loss = 0.09815895557403564, Number of mined triplets = 123826\n",
            "Epoch 3 Iteration 100: Loss = 0.09618443250656128, Number of mined triplets = 136946\n",
            "Epoch 3 Iteration 120: Loss = 0.09141591191291809, Number of mined triplets = 121825\n",
            "Epoch 3 Iteration 140: Loss = 0.08518494665622711, Number of mined triplets = 135070\n",
            "Epoch 3 Iteration 160: Loss = 0.09163618087768555, Number of mined triplets = 145736\n",
            "Epoch 3 Iteration 180: Loss = 0.08108199387788773, Number of mined triplets = 134710\n",
            "Epoch 3 Iteration 200: Loss = 0.09864038974046707, Number of mined triplets = 131518\n",
            "Epoch 3 Iteration 220: Loss = 0.0955255925655365, Number of mined triplets = 134180\n"
          ],
          "name": "stdout"
        },
        {
          "output_type": "stream",
          "text": [
            "100%|██████████| 1875/1875 [00:15<00:00, 122.86it/s]\n",
            "100%|██████████| 313/313 [00:02<00:00, 120.26it/s]\n"
          ],
          "name": "stderr"
        },
        {
          "output_type": "stream",
          "text": [
            "Computing accuracy\n",
            "Test set accuracy (Precision@1) = 0.7043\n",
            "Epoch 4 Iteration 0: Loss = 0.09292176365852356, Number of mined triplets = 135209\n",
            "Epoch 4 Iteration 20: Loss = 0.08314032107591629, Number of mined triplets = 149616\n",
            "Epoch 4 Iteration 40: Loss = 0.0997687503695488, Number of mined triplets = 123393\n",
            "Epoch 4 Iteration 60: Loss = 0.1039261594414711, Number of mined triplets = 132560\n",
            "Epoch 4 Iteration 80: Loss = 0.08443683385848999, Number of mined triplets = 140499\n",
            "Epoch 4 Iteration 100: Loss = 0.08873047679662704, Number of mined triplets = 124628\n",
            "Epoch 4 Iteration 120: Loss = 0.09150408208370209, Number of mined triplets = 119149\n",
            "Epoch 4 Iteration 140: Loss = 0.08946242183446884, Number of mined triplets = 128320\n",
            "Epoch 4 Iteration 160: Loss = 0.09297928959131241, Number of mined triplets = 128957\n",
            "Epoch 4 Iteration 180: Loss = 0.08955742418766022, Number of mined triplets = 141482\n",
            "Epoch 4 Iteration 200: Loss = 0.08127065002918243, Number of mined triplets = 168415\n",
            "Epoch 4 Iteration 220: Loss = 0.09921228140592575, Number of mined triplets = 133058\n"
          ],
          "name": "stdout"
        },
        {
          "output_type": "stream",
          "text": [
            "100%|██████████| 1875/1875 [00:15<00:00, 124.20it/s]\n",
            "100%|██████████| 313/313 [00:02<00:00, 120.01it/s]\n"
          ],
          "name": "stderr"
        },
        {
          "output_type": "stream",
          "text": [
            "Computing accuracy\n",
            "Test set accuracy (Precision@1) = 0.7258\n",
            "Epoch 5 Iteration 0: Loss = 0.09473278373479843, Number of mined triplets = 127430\n",
            "Epoch 5 Iteration 20: Loss = 0.0877111628651619, Number of mined triplets = 129591\n",
            "Epoch 5 Iteration 40: Loss = 0.09321665018796921, Number of mined triplets = 123068\n",
            "Epoch 5 Iteration 60: Loss = 0.08963988721370697, Number of mined triplets = 109913\n",
            "Epoch 5 Iteration 80: Loss = 0.07658673077821732, Number of mined triplets = 128533\n",
            "Epoch 5 Iteration 100: Loss = 0.10330436378717422, Number of mined triplets = 112812\n",
            "Epoch 5 Iteration 120: Loss = 0.08231692016124725, Number of mined triplets = 123178\n",
            "Epoch 5 Iteration 140: Loss = 0.10052202641963959, Number of mined triplets = 117795\n",
            "Epoch 5 Iteration 160: Loss = 0.08560141921043396, Number of mined triplets = 131557\n",
            "Epoch 5 Iteration 180: Loss = 0.0921473279595375, Number of mined triplets = 127156\n",
            "Epoch 5 Iteration 200: Loss = 0.07917527854442596, Number of mined triplets = 113166\n",
            "Epoch 5 Iteration 220: Loss = 0.08323613554239273, Number of mined triplets = 129723\n"
          ],
          "name": "stdout"
        },
        {
          "output_type": "stream",
          "text": [
            "100%|██████████| 1875/1875 [00:15<00:00, 124.20it/s]\n",
            "100%|██████████| 313/313 [00:02<00:00, 117.36it/s]\n"
          ],
          "name": "stderr"
        },
        {
          "output_type": "stream",
          "text": [
            "Computing accuracy\n",
            "Test set accuracy (Precision@1) = 0.7352000000000001\n",
            "Epoch 6 Iteration 0: Loss = 0.07422206550836563, Number of mined triplets = 145108\n",
            "Epoch 6 Iteration 20: Loss = 0.0892263874411583, Number of mined triplets = 117162\n",
            "Epoch 6 Iteration 40: Loss = 0.08007016032934189, Number of mined triplets = 125817\n",
            "Epoch 6 Iteration 60: Loss = 0.08889995515346527, Number of mined triplets = 113111\n",
            "Epoch 6 Iteration 80: Loss = 0.08631672710180283, Number of mined triplets = 144621\n",
            "Epoch 6 Iteration 100: Loss = 0.08494915068149567, Number of mined triplets = 139640\n",
            "Epoch 6 Iteration 120: Loss = 0.08422575145959854, Number of mined triplets = 140184\n",
            "Epoch 6 Iteration 140: Loss = 0.08734828978776932, Number of mined triplets = 138709\n",
            "Epoch 6 Iteration 160: Loss = 0.09745977073907852, Number of mined triplets = 132115\n",
            "Epoch 6 Iteration 180: Loss = 0.0865403264760971, Number of mined triplets = 128945\n",
            "Epoch 6 Iteration 200: Loss = 0.08778593689203262, Number of mined triplets = 148338\n",
            "Epoch 6 Iteration 220: Loss = 0.09810047596693039, Number of mined triplets = 134810\n"
          ],
          "name": "stdout"
        },
        {
          "output_type": "stream",
          "text": [
            "100%|██████████| 1875/1875 [00:14<00:00, 125.03it/s]\n",
            "100%|██████████| 313/313 [00:02<00:00, 120.59it/s]\n"
          ],
          "name": "stderr"
        },
        {
          "output_type": "stream",
          "text": [
            "Computing accuracy\n",
            "Test set accuracy (Precision@1) = 0.7555000000000001\n",
            "Epoch 7 Iteration 0: Loss = 0.09366513043642044, Number of mined triplets = 135452\n",
            "Epoch 7 Iteration 20: Loss = 0.07356229424476624, Number of mined triplets = 136093\n",
            "Epoch 7 Iteration 40: Loss = 0.08230414986610413, Number of mined triplets = 99730\n",
            "Epoch 7 Iteration 60: Loss = 0.07952455431222916, Number of mined triplets = 122418\n",
            "Epoch 7 Iteration 80: Loss = 0.08366156369447708, Number of mined triplets = 113920\n",
            "Epoch 7 Iteration 100: Loss = 0.08675409853458405, Number of mined triplets = 111732\n",
            "Epoch 7 Iteration 120: Loss = 0.08035048842430115, Number of mined triplets = 106247\n",
            "Epoch 7 Iteration 140: Loss = 0.0722513273358345, Number of mined triplets = 106831\n",
            "Epoch 7 Iteration 160: Loss = 0.08132552355527878, Number of mined triplets = 129283\n",
            "Epoch 7 Iteration 180: Loss = 0.0835278108716011, Number of mined triplets = 114792\n",
            "Epoch 7 Iteration 200: Loss = 0.07874415069818497, Number of mined triplets = 111418\n",
            "Epoch 7 Iteration 220: Loss = 0.07376328855752945, Number of mined triplets = 120608\n"
          ],
          "name": "stdout"
        },
        {
          "output_type": "stream",
          "text": [
            "100%|██████████| 1875/1875 [00:15<00:00, 124.06it/s]\n",
            "100%|██████████| 313/313 [00:02<00:00, 119.56it/s]\n"
          ],
          "name": "stderr"
        },
        {
          "output_type": "stream",
          "text": [
            "Computing accuracy\n",
            "Test set accuracy (Precision@1) = 0.7686000000000001\n",
            "Epoch 8 Iteration 0: Loss = 0.0749661847949028, Number of mined triplets = 136744\n",
            "Epoch 8 Iteration 20: Loss = 0.07195509225130081, Number of mined triplets = 117889\n",
            "Epoch 8 Iteration 40: Loss = 0.07290902733802795, Number of mined triplets = 134240\n",
            "Epoch 8 Iteration 60: Loss = 0.0652981773018837, Number of mined triplets = 152371\n",
            "Epoch 8 Iteration 80: Loss = 0.09421294182538986, Number of mined triplets = 136740\n",
            "Epoch 8 Iteration 100: Loss = 0.0795716717839241, Number of mined triplets = 132241\n",
            "Epoch 8 Iteration 120: Loss = 0.08192427456378937, Number of mined triplets = 112059\n",
            "Epoch 8 Iteration 140: Loss = 0.08943752199411392, Number of mined triplets = 96582\n",
            "Epoch 8 Iteration 160: Loss = 0.08506084233522415, Number of mined triplets = 113322\n",
            "Epoch 8 Iteration 180: Loss = 0.08899125456809998, Number of mined triplets = 129051\n",
            "Epoch 8 Iteration 200: Loss = 0.11130882054567337, Number of mined triplets = 108544\n",
            "Epoch 8 Iteration 220: Loss = 0.08683109283447266, Number of mined triplets = 155404\n"
          ],
          "name": "stdout"
        },
        {
          "output_type": "stream",
          "text": [
            "100%|██████████| 1875/1875 [00:15<00:00, 123.57it/s]\n",
            "100%|██████████| 313/313 [00:02<00:00, 121.59it/s]\n"
          ],
          "name": "stderr"
        },
        {
          "output_type": "stream",
          "text": [
            "Computing accuracy\n",
            "Test set accuracy (Precision@1) = 0.7819\n",
            "Epoch 9 Iteration 0: Loss = 0.07826502621173859, Number of mined triplets = 132200\n",
            "Epoch 9 Iteration 20: Loss = 0.09965919703245163, Number of mined triplets = 140964\n",
            "Epoch 9 Iteration 40: Loss = 0.0705854743719101, Number of mined triplets = 111604\n",
            "Epoch 9 Iteration 60: Loss = 0.07664419710636139, Number of mined triplets = 161553\n",
            "Epoch 9 Iteration 80: Loss = 0.07206742465496063, Number of mined triplets = 103942\n",
            "Epoch 9 Iteration 100: Loss = 0.0847327783703804, Number of mined triplets = 115835\n",
            "Epoch 9 Iteration 120: Loss = 0.07571188360452652, Number of mined triplets = 107747\n",
            "Epoch 9 Iteration 140: Loss = 0.07774601131677628, Number of mined triplets = 149884\n",
            "Epoch 9 Iteration 160: Loss = 0.08114040642976761, Number of mined triplets = 149633\n",
            "Epoch 9 Iteration 180: Loss = 0.08222201466560364, Number of mined triplets = 117831\n",
            "Epoch 9 Iteration 200: Loss = 0.07634181529283524, Number of mined triplets = 106286\n",
            "Epoch 9 Iteration 220: Loss = 0.08955926448106766, Number of mined triplets = 98070\n"
          ],
          "name": "stdout"
        },
        {
          "output_type": "stream",
          "text": [
            "100%|██████████| 1875/1875 [00:15<00:00, 124.22it/s]\n",
            "100%|██████████| 313/313 [00:02<00:00, 117.71it/s]\n"
          ],
          "name": "stderr"
        },
        {
          "output_type": "stream",
          "text": [
            "Computing accuracy\n",
            "Test set accuracy (Precision@1) = 0.7936000000000001\n",
            "Epoch 10 Iteration 0: Loss = 0.0900958850979805, Number of mined triplets = 117667\n",
            "Epoch 10 Iteration 20: Loss = 0.0677797719836235, Number of mined triplets = 144451\n",
            "Epoch 10 Iteration 40: Loss = 0.08158067613840103, Number of mined triplets = 118568\n",
            "Epoch 10 Iteration 60: Loss = 0.0879288986325264, Number of mined triplets = 93051\n",
            "Epoch 10 Iteration 80: Loss = 0.08325772732496262, Number of mined triplets = 110845\n",
            "Epoch 10 Iteration 100: Loss = 0.0966675877571106, Number of mined triplets = 120111\n",
            "Epoch 10 Iteration 120: Loss = 0.07180911302566528, Number of mined triplets = 115302\n",
            "Epoch 10 Iteration 140: Loss = 0.07013411074876785, Number of mined triplets = 134124\n",
            "Epoch 10 Iteration 160: Loss = 0.07689028978347778, Number of mined triplets = 109987\n",
            "Epoch 10 Iteration 180: Loss = 0.07339990884065628, Number of mined triplets = 114477\n",
            "Epoch 10 Iteration 200: Loss = 0.07044615596532822, Number of mined triplets = 134476\n",
            "Epoch 10 Iteration 220: Loss = 0.0790487602353096, Number of mined triplets = 101824\n"
          ],
          "name": "stdout"
        },
        {
          "output_type": "stream",
          "text": [
            "100%|██████████| 1875/1875 [00:15<00:00, 119.66it/s]\n",
            "100%|██████████| 313/313 [00:02<00:00, 118.88it/s]\n"
          ],
          "name": "stderr"
        },
        {
          "output_type": "stream",
          "text": [
            "Computing accuracy\n",
            "Test set accuracy (Precision@1) = 0.8118000000000001\n"
          ],
          "name": "stdout"
        },
        {
          "output_type": "display_data",
          "data": {
            "image/png": "[encoded data removed]",
            "text/plain": [
              "<Figure size 432x288 with 1 Axes>"
            ]
          },
          "metadata": {
            "tags": [],
            "needs_background": "light"
          }
        }
      ]
    },
    {
      "cell_type": "code",
      "metadata": {
        "id": "vOOhQSu9sftl",
        "colab": {
          "base_uri": "https://localhost:8080/",
          "height": 1000
        },
        "outputId": "4fc6014e-ab14-4685-fa09-1bdda8b7b8bf"
      },
      "source": [
        "train_embeddings_baseline, train_labels_baseline = extract_embeddings(train_loader, model)\n",
        "plot_embeddings(train_embeddings_baseline, train_labels_baseline)\n",
        "val_embeddings_baseline, val_labels_baseline = extract_embeddings(test_loader, model)\n",
        "plot_embeddings(val_embeddings_baseline, val_labels_baseline)"
      ],
      "execution_count": 13,
      "outputs": [
        {
          "output_type": "display_data",
          "data": {
            "image/png": "[encoded data removed]",
            "text/plain": [
              "<Figure size 720x720 with 1 Axes>"
            ]
          },
          "metadata": {
            "tags": [],
            "needs_background": "light"
          }
        },
        {
          "output_type": "display_data",
          "data": {
            "image/png": "[encoded data removed]",
            "text/plain": [
              "<Figure size 720x720 with 1 Axes>"
            ]
          },
          "metadata": {
            "tags": [],
            "needs_background": "light"
          }
        }
      ]
    },
    {
      "cell_type": "code",
      "metadata": {
        "id": "nJlvyWgZA-hC"
      },
      "source": [
        "# D\n",
        "class EmbeddingNet(nn.Module):\n",
        "    def __init__(self):\n",
        "        super(EmbeddingNet, self).__init__()\n",
        "        self.conv1 = nn.Conv2d(1, 32, 3, 1)\n",
        "        self.conv2 = nn.Conv2d(32, 64, 3, 1)\n",
        "        self.dropout1 = nn.Dropout2d(0.25)\n",
        "        self.dropout2 = nn.Dropout2d(0.5)\n",
        "        self.fc1 = nn.Linear(9216, 128)\n",
        "\n",
        "    def forward(self, x):\n",
        "        x = self.conv1(x)\n",
        "        x = F.relu(x)\n",
        "        x = self.conv2(x)\n",
        "        x = F.relu(x)\n",
        "        x = F.max_pool2d(x, 2)\n",
        "        x = self.dropout1(x)\n",
        "        x = torch.flatten(x, 1)\n",
        "        x = self.fc1(x)\n",
        "        return x"
      ],
      "execution_count": 14,
      "outputs": []
    },
    {
      "cell_type": "code",
      "metadata": {
        "colab": {
          "base_uri": "https://localhost:8080/"
        },
        "id": "okIryXtHBcB1",
        "outputId": "f2e30ead-41be-4507-df4f-54650456792b"
      },
      "source": [
        "!pip install MulticoreTSNE\n",
        "from MulticoreTSNE import MulticoreTSNE as TSNE\n",
        "tsne = TSNE(n_components=2, verbose=1, n_jobs=2)"
      ],
      "execution_count": 15,
      "outputs": [
        {
          "output_type": "stream",
          "text": [
            "Collecting MulticoreTSNE\n",
            "  Downloading https://files.pythonhosted.org/packages/2d/e8/2afa896fa4eebfa1d0d0ba2673fddac45582ec0f06b2bdda88108ced5425/MulticoreTSNE-0.1.tar.gz\n",
            "Requirement already satisfied: numpy in /usr/local/lib/python3.7/dist-packages (from MulticoreTSNE) (1.19.5)\n",
            "Requirement already satisfied: cffi in /usr/local/lib/python3.7/dist-packages (from MulticoreTSNE) (1.14.5)\n",
            "Requirement already satisfied: pycparser in /usr/local/lib/python3.7/dist-packages (from cffi->MulticoreTSNE) (2.20)\n",
            "Building wheels for collected packages: MulticoreTSNE\n",
            "  Building wheel for MulticoreTSNE (setup.py) ... \u001b[?25l\u001b[?25hdone\n",
            "  Created wheel for MulticoreTSNE: filename=MulticoreTSNE-0.1-cp37-cp37m-linux_x86_64.whl size=68502 sha256=7ff33197c5e52c6ee5eaaa6b0770eaed58f59691d1e3f0e6e816df7a883f4438\n",
            "  Stored in directory: /root/.cache/pip/wheels/27/59/53/3b52ee63add3692254c30d687fa4dff4d128d0557861fb028e\n",
            "Successfully built MulticoreTSNE\n",
            "Installing collected packages: MulticoreTSNE\n",
            "Successfully installed MulticoreTSNE-0.1\n"
          ],
          "name": "stdout"
        }
      ]
    },
    {
      "cell_type": "code",
      "metadata": {
        "colab": {
          "base_uri": "https://localhost:8080/"
        },
        "id": "2pnJ8SadBHG3",
        "outputId": "374b2942-902f-424f-c7ce-625cb67e4fb2"
      },
      "source": [
        "dataset1 = FashionMNIST('.', train=True, download=True, transform=transform)\n",
        "dataset2 = FashionMNIST('.', train=False, transform=transform)\n",
        "\n",
        "train_loader = torch.utils.data.DataLoader(dataset1, batch_size=batch_size, shuffle=True)\n",
        "test_loader = torch.utils.data.DataLoader(dataset2, batch_size=batch_size)\n",
        "\n",
        "embedding_net = EmbeddingNet()\n",
        "model = Net(embedding_net).to(device)\n",
        "optimizer = optim.Adam(model.parameters(), lr=0.01)\n",
        "num_epochs = 10\n",
        "\n",
        "for epoch in range(1, num_epochs + 1):\n",
        "    train(model, loss_func, mining_func, train_loader, optimizer, epoch)\n",
        "    test(dataset1, dataset2, model, accuracy_calculator)"
      ],
      "execution_count": 16,
      "outputs": [
        {
          "output_type": "stream",
          "text": [
            "Epoch 1 Iteration 0: Loss = 0.1039738655090332, Number of mined triplets = 837289\n",
            "Epoch 1 Iteration 20: Loss = 0.1100756898522377, Number of mined triplets = 149348\n",
            "Epoch 1 Iteration 40: Loss = 0.09724556654691696, Number of mined triplets = 109249\n",
            "Epoch 1 Iteration 60: Loss = 0.09810464829206467, Number of mined triplets = 80112\n",
            "Epoch 1 Iteration 80: Loss = 0.09979812055826187, Number of mined triplets = 80022\n",
            "Epoch 1 Iteration 100: Loss = 0.09604226797819138, Number of mined triplets = 81391\n",
            "Epoch 1 Iteration 120: Loss = 0.09663215279579163, Number of mined triplets = 71891\n",
            "Epoch 1 Iteration 140: Loss = 0.09696438163518906, Number of mined triplets = 67827\n",
            "Epoch 1 Iteration 160: Loss = 0.09546750783920288, Number of mined triplets = 64516\n",
            "Epoch 1 Iteration 180: Loss = 0.09470634907484055, Number of mined triplets = 57863\n",
            "Epoch 1 Iteration 200: Loss = 0.09603259712457657, Number of mined triplets = 72951\n",
            "Epoch 1 Iteration 220: Loss = 0.09176435321569443, Number of mined triplets = 54229\n"
          ],
          "name": "stdout"
        },
        {
          "output_type": "stream",
          "text": [
            "100%|██████████| 1875/1875 [00:15<00:00, 117.88it/s]\n",
            "100%|██████████| 313/313 [00:02<00:00, 113.65it/s]\n"
          ],
          "name": "stderr"
        },
        {
          "output_type": "stream",
          "text": [
            "Computing accuracy\n",
            "Test set accuracy (Precision@1) = 0.8467\n",
            "Epoch 2 Iteration 0: Loss = 0.09533665329217911, Number of mined triplets = 66625\n",
            "Epoch 2 Iteration 20: Loss = 0.09080416709184647, Number of mined triplets = 49183\n",
            "Epoch 2 Iteration 40: Loss = 0.09590441733598709, Number of mined triplets = 70710\n",
            "Epoch 2 Iteration 60: Loss = 0.09153741598129272, Number of mined triplets = 55962\n",
            "Epoch 2 Iteration 80: Loss = 0.09310510754585266, Number of mined triplets = 65368\n",
            "Epoch 2 Iteration 100: Loss = 0.09338884800672531, Number of mined triplets = 73563\n",
            "Epoch 2 Iteration 120: Loss = 0.09146975725889206, Number of mined triplets = 55154\n",
            "Epoch 2 Iteration 140: Loss = 0.09414338320493698, Number of mined triplets = 61151\n",
            "Epoch 2 Iteration 160: Loss = 0.09099901467561722, Number of mined triplets = 39539\n",
            "Epoch 2 Iteration 180: Loss = 0.09122641384601593, Number of mined triplets = 46691\n",
            "Epoch 2 Iteration 200: Loss = 0.0917823389172554, Number of mined triplets = 47288\n",
            "Epoch 2 Iteration 220: Loss = 0.09084407985210419, Number of mined triplets = 56752\n"
          ],
          "name": "stdout"
        },
        {
          "output_type": "stream",
          "text": [
            "100%|██████████| 1875/1875 [00:15<00:00, 118.28it/s]\n",
            "100%|██████████| 313/313 [00:02<00:00, 114.92it/s]\n"
          ],
          "name": "stderr"
        },
        {
          "output_type": "stream",
          "text": [
            "Computing accuracy\n",
            "Test set accuracy (Precision@1) = 0.8685\n",
            "Epoch 3 Iteration 0: Loss = 0.09356269985437393, Number of mined triplets = 63203\n",
            "Epoch 3 Iteration 20: Loss = 0.09215570241212845, Number of mined triplets = 43332\n",
            "Epoch 3 Iteration 40: Loss = 0.09106557071208954, Number of mined triplets = 47535\n",
            "Epoch 3 Iteration 60: Loss = 0.09086522459983826, Number of mined triplets = 40400\n",
            "Epoch 3 Iteration 80: Loss = 0.09291411936283112, Number of mined triplets = 69929\n",
            "Epoch 3 Iteration 100: Loss = 0.09303370118141174, Number of mined triplets = 52055\n",
            "Epoch 3 Iteration 120: Loss = 0.09213539212942123, Number of mined triplets = 38988\n",
            "Epoch 3 Iteration 140: Loss = 0.08972923457622528, Number of mined triplets = 62916\n",
            "Epoch 3 Iteration 160: Loss = 0.0911451205611229, Number of mined triplets = 37748\n",
            "Epoch 3 Iteration 180: Loss = 0.09166855365037918, Number of mined triplets = 47763\n",
            "Epoch 3 Iteration 200: Loss = 0.0905088409781456, Number of mined triplets = 42928\n",
            "Epoch 3 Iteration 220: Loss = 0.09256920963525772, Number of mined triplets = 45351\n"
          ],
          "name": "stdout"
        },
        {
          "output_type": "stream",
          "text": [
            "100%|██████████| 1875/1875 [00:16<00:00, 116.75it/s]\n",
            "100%|██████████| 313/313 [00:02<00:00, 113.49it/s]\n"
          ],
          "name": "stderr"
        },
        {
          "output_type": "stream",
          "text": [
            "Computing accuracy\n",
            "Test set accuracy (Precision@1) = 0.8774000000000001\n",
            "Epoch 4 Iteration 0: Loss = 0.09186483919620514, Number of mined triplets = 43762\n",
            "Epoch 4 Iteration 20: Loss = 0.09171076118946075, Number of mined triplets = 54958\n",
            "Epoch 4 Iteration 40: Loss = 0.09382269531488419, Number of mined triplets = 56685\n",
            "Epoch 4 Iteration 60: Loss = 0.0903874933719635, Number of mined triplets = 40034\n",
            "Epoch 4 Iteration 80: Loss = 0.09053192287683487, Number of mined triplets = 50666\n",
            "Epoch 4 Iteration 100: Loss = 0.0914808139204979, Number of mined triplets = 56328\n",
            "Epoch 4 Iteration 120: Loss = 0.08933612704277039, Number of mined triplets = 41396\n",
            "Epoch 4 Iteration 140: Loss = 0.09030743688344955, Number of mined triplets = 43155\n",
            "Epoch 4 Iteration 160: Loss = 0.08970104157924652, Number of mined triplets = 30865\n",
            "Epoch 4 Iteration 180: Loss = 0.09254468232393265, Number of mined triplets = 55735\n",
            "Epoch 4 Iteration 200: Loss = 0.09220319986343384, Number of mined triplets = 43991\n",
            "Epoch 4 Iteration 220: Loss = 0.09163663536310196, Number of mined triplets = 41915\n"
          ],
          "name": "stdout"
        },
        {
          "output_type": "stream",
          "text": [
            "100%|██████████| 1875/1875 [00:15<00:00, 117.26it/s]\n",
            "100%|██████████| 313/313 [00:02<00:00, 115.62it/s]\n"
          ],
          "name": "stderr"
        },
        {
          "output_type": "stream",
          "text": [
            "Computing accuracy\n",
            "Test set accuracy (Precision@1) = 0.8838\n",
            "Epoch 5 Iteration 0: Loss = 0.09206346422433853, Number of mined triplets = 41853\n",
            "Epoch 5 Iteration 20: Loss = 0.08996623009443283, Number of mined triplets = 36738\n",
            "Epoch 5 Iteration 40: Loss = 0.08985329419374466, Number of mined triplets = 29605\n",
            "Epoch 5 Iteration 60: Loss = 0.09267943352460861, Number of mined triplets = 47402\n",
            "Epoch 5 Iteration 80: Loss = 0.09131961315870285, Number of mined triplets = 38700\n",
            "Epoch 5 Iteration 100: Loss = 0.09163165837526321, Number of mined triplets = 43411\n",
            "Epoch 5 Iteration 120: Loss = 0.09133334457874298, Number of mined triplets = 38725\n",
            "Epoch 5 Iteration 140: Loss = 0.09185183793306351, Number of mined triplets = 41978\n",
            "Epoch 5 Iteration 160: Loss = 0.09080538153648376, Number of mined triplets = 52427\n",
            "Epoch 5 Iteration 180: Loss = 0.08964596688747406, Number of mined triplets = 31979\n",
            "Epoch 5 Iteration 200: Loss = 0.09241435676813126, Number of mined triplets = 40284\n",
            "Epoch 5 Iteration 220: Loss = 0.09237830340862274, Number of mined triplets = 59673\n"
          ],
          "name": "stdout"
        },
        {
          "output_type": "stream",
          "text": [
            "100%|██████████| 1875/1875 [00:15<00:00, 118.08it/s]\n",
            "100%|██████████| 313/313 [00:02<00:00, 112.68it/s]\n"
          ],
          "name": "stderr"
        },
        {
          "output_type": "stream",
          "text": [
            "Computing accuracy\n",
            "Test set accuracy (Precision@1) = 0.889\n",
            "Epoch 6 Iteration 0: Loss = 0.09198137372732162, Number of mined triplets = 55905\n",
            "Epoch 6 Iteration 20: Loss = 0.09216104447841644, Number of mined triplets = 42601\n",
            "Epoch 6 Iteration 40: Loss = 0.08668432384729385, Number of mined triplets = 28839\n",
            "Epoch 6 Iteration 60: Loss = 0.09108935296535492, Number of mined triplets = 34829\n",
            "Epoch 6 Iteration 80: Loss = 0.09198624640703201, Number of mined triplets = 34136\n",
            "Epoch 6 Iteration 100: Loss = 0.09086732566356659, Number of mined triplets = 36662\n",
            "Epoch 6 Iteration 120: Loss = 0.09069932252168655, Number of mined triplets = 45757\n",
            "Epoch 6 Iteration 140: Loss = 0.08884294331073761, Number of mined triplets = 39708\n",
            "Epoch 6 Iteration 160: Loss = 0.09174291789531708, Number of mined triplets = 45898\n",
            "Epoch 6 Iteration 180: Loss = 0.09333872050046921, Number of mined triplets = 47740\n",
            "Epoch 6 Iteration 200: Loss = 0.09056160598993301, Number of mined triplets = 39170\n",
            "Epoch 6 Iteration 220: Loss = 0.09197968244552612, Number of mined triplets = 39925\n"
          ],
          "name": "stdout"
        },
        {
          "output_type": "stream",
          "text": [
            "100%|██████████| 1875/1875 [00:16<00:00, 113.70it/s]\n",
            "100%|██████████| 313/313 [00:02<00:00, 114.70it/s]\n"
          ],
          "name": "stderr"
        },
        {
          "output_type": "stream",
          "text": [
            "Computing accuracy\n",
            "Test set accuracy (Precision@1) = 0.8859\n",
            "Epoch 7 Iteration 0: Loss = 0.09110993146896362, Number of mined triplets = 25765\n",
            "Epoch 7 Iteration 20: Loss = 0.08798366785049438, Number of mined triplets = 36914\n",
            "Epoch 7 Iteration 40: Loss = 0.09018796682357788, Number of mined triplets = 41702\n",
            "Epoch 7 Iteration 60: Loss = 0.08958736062049866, Number of mined triplets = 32406\n",
            "Epoch 7 Iteration 80: Loss = 0.09213441610336304, Number of mined triplets = 46826\n",
            "Epoch 7 Iteration 100: Loss = 0.09060611575841904, Number of mined triplets = 35627\n",
            "Epoch 7 Iteration 120: Loss = 0.09164892137050629, Number of mined triplets = 46556\n",
            "Epoch 7 Iteration 140: Loss = 0.09144556522369385, Number of mined triplets = 45196\n",
            "Epoch 7 Iteration 160: Loss = 0.08938367664813995, Number of mined triplets = 39309\n",
            "Epoch 7 Iteration 180: Loss = 0.09136181324720383, Number of mined triplets = 43608\n",
            "Epoch 7 Iteration 200: Loss = 0.09074651449918747, Number of mined triplets = 28925\n",
            "Epoch 7 Iteration 220: Loss = 0.09072645753622055, Number of mined triplets = 45290\n"
          ],
          "name": "stdout"
        },
        {
          "output_type": "stream",
          "text": [
            "100%|██████████| 1875/1875 [00:16<00:00, 117.03it/s]\n",
            "100%|██████████| 313/313 [00:02<00:00, 114.12it/s]\n"
          ],
          "name": "stderr"
        },
        {
          "output_type": "stream",
          "text": [
            "Computing accuracy\n",
            "Test set accuracy (Precision@1) = 0.8868\n",
            "Epoch 8 Iteration 0: Loss = 0.09168461710214615, Number of mined triplets = 38601\n",
            "Epoch 8 Iteration 20: Loss = 0.09021241962909698, Number of mined triplets = 40367\n",
            "Epoch 8 Iteration 40: Loss = 0.09015019237995148, Number of mined triplets = 42371\n",
            "Epoch 8 Iteration 60: Loss = 0.08808240294456482, Number of mined triplets = 29577\n",
            "Epoch 8 Iteration 80: Loss = 0.0887356624007225, Number of mined triplets = 38878\n",
            "Epoch 8 Iteration 100: Loss = 0.09124630689620972, Number of mined triplets = 43824\n",
            "Epoch 8 Iteration 120: Loss = 0.08973634243011475, Number of mined triplets = 44616\n",
            "Epoch 8 Iteration 140: Loss = 0.08709685504436493, Number of mined triplets = 24781\n",
            "Epoch 8 Iteration 160: Loss = 0.08962003886699677, Number of mined triplets = 31615\n",
            "Epoch 8 Iteration 180: Loss = 0.08966371417045593, Number of mined triplets = 38404\n",
            "Epoch 8 Iteration 200: Loss = 0.0909506231546402, Number of mined triplets = 44863\n",
            "Epoch 8 Iteration 220: Loss = 0.0896141454577446, Number of mined triplets = 42823\n"
          ],
          "name": "stdout"
        },
        {
          "output_type": "stream",
          "text": [
            "100%|██████████| 1875/1875 [00:16<00:00, 116.60it/s]\n",
            "100%|██████████| 313/313 [00:02<00:00, 116.36it/s]\n"
          ],
          "name": "stderr"
        },
        {
          "output_type": "stream",
          "text": [
            "Computing accuracy\n",
            "Test set accuracy (Precision@1) = 0.8921\n",
            "Epoch 9 Iteration 0: Loss = 0.0907440260052681, Number of mined triplets = 45323\n",
            "Epoch 9 Iteration 20: Loss = 0.0903952345252037, Number of mined triplets = 35632\n",
            "Epoch 9 Iteration 40: Loss = 0.0903649777173996, Number of mined triplets = 42048\n",
            "Epoch 9 Iteration 60: Loss = 0.09073692560195923, Number of mined triplets = 24693\n",
            "Epoch 9 Iteration 80: Loss = 0.09077439457178116, Number of mined triplets = 40317\n",
            "Epoch 9 Iteration 100: Loss = 0.09128889441490173, Number of mined triplets = 46319\n",
            "Epoch 9 Iteration 120: Loss = 0.08768525719642639, Number of mined triplets = 28469\n",
            "Epoch 9 Iteration 140: Loss = 0.09160106629133224, Number of mined triplets = 37869\n",
            "Epoch 9 Iteration 160: Loss = 0.09063305705785751, Number of mined triplets = 33776\n",
            "Epoch 9 Iteration 180: Loss = 0.09058613330125809, Number of mined triplets = 39733\n",
            "Epoch 9 Iteration 200: Loss = 0.08959802240133286, Number of mined triplets = 33860\n",
            "Epoch 9 Iteration 220: Loss = 0.09354490041732788, Number of mined triplets = 40962\n"
          ],
          "name": "stdout"
        },
        {
          "output_type": "stream",
          "text": [
            "100%|██████████| 1875/1875 [00:16<00:00, 116.28it/s]\n",
            "100%|██████████| 313/313 [00:02<00:00, 112.01it/s]\n"
          ],
          "name": "stderr"
        },
        {
          "output_type": "stream",
          "text": [
            "Computing accuracy\n",
            "Test set accuracy (Precision@1) = 0.8888\n",
            "Epoch 10 Iteration 0: Loss = 0.09062720835208893, Number of mined triplets = 36111\n",
            "Epoch 10 Iteration 20: Loss = 0.08930093050003052, Number of mined triplets = 30989\n",
            "Epoch 10 Iteration 40: Loss = 0.08951882272958755, Number of mined triplets = 48249\n",
            "Epoch 10 Iteration 60: Loss = 0.08914951235055923, Number of mined triplets = 29453\n",
            "Epoch 10 Iteration 80: Loss = 0.08940233290195465, Number of mined triplets = 31611\n",
            "Epoch 10 Iteration 100: Loss = 0.0915021002292633, Number of mined triplets = 47108\n",
            "Epoch 10 Iteration 120: Loss = 0.08961619436740875, Number of mined triplets = 40093\n",
            "Epoch 10 Iteration 140: Loss = 0.08991549909114838, Number of mined triplets = 27549\n",
            "Epoch 10 Iteration 160: Loss = 0.09241468459367752, Number of mined triplets = 54759\n",
            "Epoch 10 Iteration 180: Loss = 0.08806375414133072, Number of mined triplets = 30787\n",
            "Epoch 10 Iteration 200: Loss = 0.08886764198541641, Number of mined triplets = 35020\n",
            "Epoch 10 Iteration 220: Loss = 0.09012474119663239, Number of mined triplets = 43263\n"
          ],
          "name": "stdout"
        },
        {
          "output_type": "stream",
          "text": [
            "100%|██████████| 1875/1875 [00:16<00:00, 116.59it/s]\n",
            "100%|██████████| 313/313 [00:02<00:00, 113.35it/s]\n"
          ],
          "name": "stderr"
        },
        {
          "output_type": "stream",
          "text": [
            "Computing accuracy\n",
            "Test set accuracy (Precision@1) = 0.8939\n"
          ],
          "name": "stdout"
        }
      ]
    },
    {
      "cell_type": "code",
      "metadata": {
        "colab": {
          "base_uri": "https://localhost:8080/",
          "height": 1000
        },
        "id": "c_d1qFABB0UJ",
        "outputId": "d075467a-1938-4138-f1f0-11d4d57ae711"
      },
      "source": [
        "train_embeddings, train_labels = get_all_embeddings(dataset1, model)\n",
        "\n",
        "train_embeddings = tsne.fit_transform(train_embeddings[::500].cpu())\n",
        "\n",
        "plot_embeddings(train_embeddings, train_labels[::500].cpu())\n",
        "val_embeddings_baseline, val_labels_baseline = get_all_embeddings(dataset2, model)\n",
        "val_embeddings_baseline = tsne.fit_transform(val_embeddings_baseline[::100].cpu())\n",
        "\n",
        "plot_embeddings(val_embeddings_baseline, val_labels_baseline[::100].cpu())"
      ],
      "execution_count": 17,
      "outputs": [
        {
          "output_type": "stream",
          "text": [
            "100%|██████████| 1875/1875 [00:16<00:00, 117.18it/s]\n",
            "100%|██████████| 313/313 [00:02<00:00, 114.40it/s]\n"
          ],
          "name": "stderr"
        },
        {
          "output_type": "display_data",
          "data": {
            "image/png": "[encoded data removed]",
            "text/plain": [
              "<Figure size 720x720 with 1 Axes>"
            ]
          },
          "metadata": {
            "tags": [],
            "needs_background": "light"
          }
        },
        {
          "output_type": "display_data",
          "data": {
            "image/png": "[encoded data removed]",
            "text/plain": [
              "<Figure size 720x720 with 1 Axes>"
            ]
          },
          "metadata": {
            "tags": [],
            "needs_background": "light"
          }
        }
      ]
    }
  ]
}